{
 "cells": [
  {
   "cell_type": "markdown",
   "id": "f5aa4db1",
   "metadata": {},
   "source": [
    "# 1. Import Dependencies"
   ]
  },
  {
   "cell_type": "code",
   "execution_count": 1,
   "id": "47fd91f1",
   "metadata": {},
   "outputs": [
    {
     "name": "stdout",
     "output_type": "stream",
     "text": [
      "Requirement already satisfied: opencv-python in d:\\8th sem\\weed detection system using tinyml\\project1\\tfwd\\lib\\site-packages (4.7.0.72)\n",
      "Requirement already satisfied: numpy>=1.21.2 in d:\\8th sem\\weed detection system using tinyml\\project1\\tfwd\\lib\\site-packages (from opencv-python) (1.24.3)\n"
     ]
    }
   ],
   "source": [
    "!pip install opencv-python"
   ]
  },
  {
   "cell_type": "code",
   "execution_count": 1,
   "id": "81c48475",
   "metadata": {},
   "outputs": [],
   "source": [
    "# Import opencv\n",
    "import cv2\n",
    "\n",
    "# Import uuid\n",
    "import uuid \n",
    "\n",
    "# Import Operating System\n",
    "import os\n",
    "\n",
    "# Import time\n",
    "import time\n",
    "\n",
    "# # Import numpy\n",
    "# import numpy as np\n",
    "\n",
    "from imutils import paths"
   ]
  },
  {
   "cell_type": "markdown",
   "id": "d8ed9245",
   "metadata": {},
   "source": [
    "# 2. Setup Path for Images"
   ]
  },
  {
   "cell_type": "code",
   "execution_count": 2,
   "id": "45e8ac37",
   "metadata": {},
   "outputs": [
    {
     "name": "stdout",
     "output_type": "stream",
     "text": [
      "D:\\8th sem\\Weed detection system using TinyMl\\Project1\\Tensorflow\\workspace\\images\\images\n"
     ]
    }
   ],
   "source": [
    "datapath = \"D:\\8th sem\\Weed detection system using TinyMl\\Project1\\Tensorflow\\workspace\\images\\images\"\n",
    "print(datapath)"
   ]
  },
  {
   "cell_type": "markdown",
   "id": "8c6ac91d",
   "metadata": {},
   "source": [
    "# 3. Load Images"
   ]
  },
  {
   "cell_type": "code",
   "execution_count": 3,
   "id": "6de44840",
   "metadata": {},
   "outputs": [
    {
     "name": "stdout",
     "output_type": "stream",
     "text": [
      "Images being loaded...\n"
     ]
    }
   ],
   "source": [
    "data_labels= (['crop', 'weed'])\n",
    "number_imgs = 5\n",
    "print(\"Images being loaded...\")\n",
    "pathToImages = list(paths.list_images(datapath))\n",
    "data = []\n",
    "labels = []\n",
    "\n",
    "for images in pathToImages:\n",
    "    label = images.split(os.path.sep)[-2]\n",
    "    if label not in data_labels:\n",
    "        continue\n",
    "    image = cv2.imread(images)\n",
    "    data.append(image)\n",
    "    labels.append(label)\n",
    "#     print(data)\n",
    "    "
   ]
  },
  {
   "cell_type": "markdown",
   "id": "1dae1bfd",
   "metadata": {},
   "source": [
    "# 4. Image Labelling"
   ]
  },
  {
   "cell_type": "code",
   "execution_count": 4,
   "id": "ba7234e1",
   "metadata": {},
   "outputs": [
    {
     "name": "stdout",
     "output_type": "stream",
     "text": [
      "Requirement already satisfied: pyqt5 in d:\\8th sem\\weed detection system using tinyml\\project1\\tfwd\\lib\\site-packages (5.15.9)\n",
      "Requirement already satisfied: lxml in d:\\8th sem\\weed detection system using tinyml\\project1\\tfwd\\lib\\site-packages (4.9.2)\n",
      "Requirement already satisfied: PyQt5-sip<13,>=12.11 in d:\\8th sem\\weed detection system using tinyml\\project1\\tfwd\\lib\\site-packages (from pyqt5) (12.12.1)\n",
      "Requirement already satisfied: PyQt5-Qt5>=5.15.2 in d:\\8th sem\\weed detection system using tinyml\\project1\\tfwd\\lib\\site-packages (from pyqt5) (5.15.2)\n"
     ]
    }
   ],
   "source": [
    "!pip install --upgrade pyqt5 lxml"
   ]
  },
  {
   "cell_type": "code",
   "execution_count": 5,
   "id": "dc9fe83c",
   "metadata": {
    "scrolled": true
   },
   "outputs": [],
   "source": [
    "LABELIMG_PATH = os.path.join('Tensorflow', 'labelimg')"
   ]
  },
  {
   "cell_type": "code",
   "execution_count": 6,
   "id": "e389b1ec",
   "metadata": {},
   "outputs": [],
   "source": [
    "if not os.path.exists(LABELIMG_PATH):\n",
    "    !mkdir {LABELIMG_PATH}\n",
    "#     !git clone https://github.com/heartexlabs/labelImg {LABELIMG_PATH}"
   ]
  },
  {
   "cell_type": "code",
   "execution_count": 7,
   "id": "72f556eb",
   "metadata": {},
   "outputs": [],
   "source": [
    "if os.name == 'posix':\n",
    "    !cd {LABELIMG_PATH} && make qt5py3\n",
    "if os.name == 'nt':\n",
    "    !cd {LABELIMG_PATH} && pyrcc5 -o libs/resources.py resources.qrc"
   ]
  },
  {
   "cell_type": "code",
   "execution_count": 8,
   "id": "1f6a18bf",
   "metadata": {
    "collapsed": true
   },
   "outputs": [
    {
     "name": "stdout",
     "output_type": "stream",
     "text": [
      "Image:D:\\8th sem\\Weed detection system using TinyMl\\Project1\\Tensorflow\\workspace\\images\\images\\crop\\agri_0_5053.jpeg -> Annotation:D:/8th sem/Weed detection system using TinyMl/Project1/Tensorflow/workspace/images/images/crop\\agri_0_5053.xml\n",
      "Image:D:\\8th sem\\Weed detection system using TinyMl\\Project1\\Tensorflow\\workspace\\images\\images\\crop\\agri_0_5087.jpeg -> Annotation:D:/8th sem/Weed detection system using TinyMl/Project1/Tensorflow/workspace/images/images/crop\\agri_0_5087.xml\n",
      "Image:D:\\8th sem\\Weed detection system using TinyMl\\Project1\\Tensorflow\\workspace\\images\\images\\crop\\agri_0_5210.jpeg -> Annotation:D:/8th sem/Weed detection system using TinyMl/Project1/Tensorflow/workspace/images/images/crop\\agri_0_5210.xml\n",
      "Image:D:\\8th sem\\Weed detection system using TinyMl\\Project1\\Tensorflow\\workspace\\images\\images\\crop\\agri_0_5220.jpeg -> Annotation:D:/8th sem/Weed detection system using TinyMl/Project1/Tensorflow/workspace/images/images/crop\\agri_0_5220.xml\n",
      "Image:D:\\8th sem\\Weed detection system using TinyMl\\Project1\\Tensorflow\\workspace\\images\\images\\crop\\agri_0_5336.jpeg -> Annotation:D:/8th sem/Weed detection system using TinyMl/Project1/Tensorflow/workspace/images/images/crop\\agri_0_5336.xml\n",
      "Image:D:\\8th sem\\Weed detection system using TinyMl\\Project1\\Tensorflow\\workspace\\images\\images\\crop\\agri_0_5361.jpeg -> Annotation:D:/8th sem/Weed detection system using TinyMl/Project1/Tensorflow/workspace/images/images/crop\\agri_0_5361.xml\n",
      "Image:D:\\8th sem\\Weed detection system using TinyMl\\Project1\\Tensorflow\\workspace\\images\\images\\crop\\agri_0_5401.jpeg -> Annotation:D:/8th sem/Weed detection system using TinyMl/Project1/Tensorflow/workspace/images/images/crop\\agri_0_5401.xml\n",
      "Image:D:\\8th sem\\Weed detection system using TinyMl\\Project1\\Tensorflow\\workspace\\images\\images\\crop\\agri_0_5435.jpeg -> Annotation:D:/8th sem/Weed detection system using TinyMl/Project1/Tensorflow/workspace/images/images/crop\\agri_0_5435.xml\n",
      "Image:D:\\8th sem\\Weed detection system using TinyMl\\Project1\\Tensorflow\\workspace\\images\\images\\crop\\agri_0_5461.jpeg -> Annotation:D:/8th sem/Weed detection system using TinyMl/Project1/Tensorflow/workspace/images/images/crop\\agri_0_5461.xml\n",
      "ESC press\n",
      "Cancel creation.\n",
      "Image:D:\\8th sem\\Weed detection system using TinyMl\\Project1\\Tensorflow\\workspace\\images\\images\\crop\\agri_0_5487.jpeg -> Annotation:D:/8th sem/Weed detection system using TinyMl/Project1/Tensorflow/workspace/images/images/crop\\agri_0_5487.xml\n",
      "Image:D:\\8th sem\\Weed detection system using TinyMl\\Project1\\Tensorflow\\workspace\\images\\images\\crop\\agri_0_5494.jpeg -> Annotation:D:/8th sem/Weed detection system using TinyMl/Project1/Tensorflow/workspace/images/images/crop\\agri_0_5494.xml\n",
      "Image:D:\\8th sem\\Weed detection system using TinyMl\\Project1\\Tensorflow\\workspace\\images\\images\\crop\\agri_0_5502.jpeg -> Annotation:D:/8th sem/Weed detection system using TinyMl/Project1/Tensorflow/workspace/images/images/crop\\agri_0_5502.xml\n",
      "Image:D:\\8th sem\\Weed detection system using TinyMl\\Project1\\Tensorflow\\workspace\\images\\images\\crop\\agri_0_5512.jpeg -> Annotation:D:/8th sem/Weed detection system using TinyMl/Project1/Tensorflow/workspace/images/images/crop\\agri_0_5512.xml\n",
      "Image:D:\\8th sem\\Weed detection system using TinyMl\\Project1\\Tensorflow\\workspace\\images\\images\\crop\\agri_0_5521.jpeg -> Annotation:D:/8th sem/Weed detection system using TinyMl/Project1/Tensorflow/workspace/images/images/crop\\agri_0_5521.xml\n",
      "Cancel creation.\n",
      "Image:D:\\8th sem\\Weed detection system using TinyMl\\Project1\\Tensorflow\\workspace\\images\\images\\crop\\agri_0_5625.jpeg -> Annotation:D:/8th sem/Weed detection system using TinyMl/Project1/Tensorflow/workspace/images/images/crop\\agri_0_5625.xml\n",
      "Image:D:\\8th sem\\Weed detection system using TinyMl\\Project1\\Tensorflow\\workspace\\images\\images\\crop\\agri_0_5627.jpeg -> Annotation:D:/8th sem/Weed detection system using TinyMl/Project1/Tensorflow/workspace/images/images/crop\\agri_0_5627.xml\n",
      "Image:D:\\8th sem\\Weed detection system using TinyMl\\Project1\\Tensorflow\\workspace\\images\\images\\crop\\agri_0_5634.jpeg -> Annotation:D:/8th sem/Weed detection system using TinyMl/Project1/Tensorflow/workspace/images/images/crop\\agri_0_5634.xml\n",
      "Image:D:\\8th sem\\Weed detection system using TinyMl\\Project1\\Tensorflow\\workspace\\images\\images\\crop\\agri_0_5641.jpeg -> Annotation:D:/8th sem/Weed detection system using TinyMl/Project1/Tensorflow/workspace/images/images/crop\\agri_0_5641.xml\n",
      "Image:D:\\8th sem\\Weed detection system using TinyMl\\Project1\\Tensorflow\\workspace\\images\\images\\crop\\agri_0_5644.jpeg -> Annotation:D:/8th sem/Weed detection system using TinyMl/Project1/Tensorflow/workspace/images/images/crop\\agri_0_5644.xml\n",
      "Image:D:\\8th sem\\Weed detection system using TinyMl\\Project1\\Tensorflow\\workspace\\images\\images\\crop\\agri_0_5666.jpeg -> Annotation:D:/8th sem/Weed detection system using TinyMl/Project1/Tensorflow/workspace/images/images/crop\\agri_0_5666.xml\n",
      "Image:D:\\8th sem\\Weed detection system using TinyMl\\Project1\\Tensorflow\\workspace\\images\\images\\crop\\agri_0_5676.jpeg -> Annotation:D:/8th sem/Weed detection system using TinyMl/Project1/Tensorflow/workspace/images/images/crop\\agri_0_5676.xml\n",
      "Image:D:\\8th sem\\Weed detection system using TinyMl\\Project1\\Tensorflow\\workspace\\images\\images\\crop\\agri_0_5718.jpeg -> Annotation:D:/8th sem/Weed detection system using TinyMl/Project1/Tensorflow/workspace/images/images/crop\\agri_0_5718.xml\n",
      "Image:D:\\8th sem\\Weed detection system using TinyMl\\Project1\\Tensorflow\\workspace\\images\\images\\crop\\agri_0_5733.jpeg -> Annotation:D:/8th sem/Weed detection system using TinyMl/Project1/Tensorflow/workspace/images/images/crop\\agri_0_5733.xml\n",
      "Image:D:\\8th sem\\Weed detection system using TinyMl\\Project1\\Tensorflow\\workspace\\images\\images\\crop\\agri_0_5780.jpeg -> Annotation:D:/8th sem/Weed detection system using TinyMl/Project1/Tensorflow/workspace/images/images/crop\\agri_0_5780.xml\n",
      "Image:D:\\8th sem\\Weed detection system using TinyMl\\Project1\\Tensorflow\\workspace\\images\\images\\crop\\agri_0_5784.jpeg -> Annotation:D:/8th sem/Weed detection system using TinyMl/Project1/Tensorflow/workspace/images/images/crop\\agri_0_5784.xml\n",
      "Image:D:\\8th sem\\Weed detection system using TinyMl\\Project1\\Tensorflow\\workspace\\images\\images\\crop\\agri_0_5786.jpeg -> Annotation:D:/8th sem/Weed detection system using TinyMl/Project1/Tensorflow/workspace/images/images/crop\\agri_0_5786.xml\n",
      "Image:D:\\8th sem\\Weed detection system using TinyMl\\Project1\\Tensorflow\\workspace\\images\\images\\crop\\agri_0_5794.jpeg -> Annotation:D:/8th sem/Weed detection system using TinyMl/Project1/Tensorflow/workspace/images/images/crop\\agri_0_5794.xml\n",
      "Image:D:\\8th sem\\Weed detection system using TinyMl\\Project1\\Tensorflow\\workspace\\images\\images\\crop\\agri_0_5802.jpeg -> Annotation:D:/8th sem/Weed detection system using TinyMl/Project1/Tensorflow/workspace/images/images/crop\\agri_0_5802.xml\n",
      "Image:D:\\8th sem\\Weed detection system using TinyMl\\Project1\\Tensorflow\\workspace\\images\\images\\crop\\agri_0_5808.jpeg -> Annotation:D:/8th sem/Weed detection system using TinyMl/Project1/Tensorflow/workspace/images/images/crop\\agri_0_5808.xml\n",
      "Image:D:\\8th sem\\Weed detection system using TinyMl\\Project1\\Tensorflow\\workspace\\images\\images\\crop\\agri_0_5818.jpeg -> Annotation:D:/8th sem/Weed detection system using TinyMl/Project1/Tensorflow/workspace/images/images/crop\\agri_0_5818.xml\n",
      "Image:D:\\8th sem\\Weed detection system using TinyMl\\Project1\\Tensorflow\\workspace\\images\\images\\crop\\agri_0_5821.jpeg -> Annotation:D:/8th sem/Weed detection system using TinyMl/Project1/Tensorflow/workspace/images/images/crop\\agri_0_5821.xml\n",
      "Image:D:\\8th sem\\Weed detection system using TinyMl\\Project1\\Tensorflow\\workspace\\images\\images\\crop\\agri_0_5822.jpeg -> Annotation:D:/8th sem/Weed detection system using TinyMl/Project1/Tensorflow/workspace/images/images/crop\\agri_0_5822.xml\n",
      "Image:D:\\8th sem\\Weed detection system using TinyMl\\Project1\\Tensorflow\\workspace\\images\\images\\crop\\agri_0_5823.jpeg -> Annotation:D:/8th sem/Weed detection system using TinyMl/Project1/Tensorflow/workspace/images/images/crop\\agri_0_5823.xml\n",
      "Image:D:\\8th sem\\Weed detection system using TinyMl\\Project1\\Tensorflow\\workspace\\images\\images\\crop\\agri_0_5834.jpeg -> Annotation:D:/8th sem/Weed detection system using TinyMl/Project1/Tensorflow/workspace/images/images/crop\\agri_0_5834.xml\n",
      "Image:D:\\8th sem\\Weed detection system using TinyMl\\Project1\\Tensorflow\\workspace\\images\\images\\crop\\agri_0_5856.jpeg -> Annotation:D:/8th sem/Weed detection system using TinyMl/Project1/Tensorflow/workspace/images/images/crop\\agri_0_5856.xml\n",
      "Image:D:\\8th sem\\Weed detection system using TinyMl\\Project1\\Tensorflow\\workspace\\images\\images\\crop\\agri_0_5858.jpeg -> Annotation:D:/8th sem/Weed detection system using TinyMl/Project1/Tensorflow/workspace/images/images/crop\\agri_0_5858.xml\n",
      "Image:D:\\8th sem\\Weed detection system using TinyMl\\Project1\\Tensorflow\\workspace\\images\\images\\crop\\agri_0_5871.jpeg -> Annotation:D:/8th sem/Weed detection system using TinyMl/Project1/Tensorflow/workspace/images/images/crop\\agri_0_5871.xml\n",
      "Image:D:\\8th sem\\Weed detection system using TinyMl\\Project1\\Tensorflow\\workspace\\images\\images\\crop\\agri_0_5880.jpeg -> Annotation:D:/8th sem/Weed detection system using TinyMl/Project1/Tensorflow/workspace/images/images/crop\\agri_0_5880.xml\n",
      "Image:D:\\8th sem\\Weed detection system using TinyMl\\Project1\\Tensorflow\\workspace\\images\\images\\crop\\agri_0_5896.jpeg -> Annotation:D:/8th sem/Weed detection system using TinyMl/Project1/Tensorflow/workspace/images/images/crop\\agri_0_5896.xml\n",
      "Image:D:\\8th sem\\Weed detection system using TinyMl\\Project1\\Tensorflow\\workspace\\images\\images\\crop\\agri_0_5928.jpeg -> Annotation:D:/8th sem/Weed detection system using TinyMl/Project1/Tensorflow/workspace/images/images/crop\\agri_0_5928.xml\n",
      "Image:D:\\8th sem\\Weed detection system using TinyMl\\Project1\\Tensorflow\\workspace\\images\\images\\crop\\agri_0_5932.jpeg -> Annotation:D:/8th sem/Weed detection system using TinyMl/Project1/Tensorflow/workspace/images/images/crop\\agri_0_5932.xml\n",
      "Image:D:\\8th sem\\Weed detection system using TinyMl\\Project1\\Tensorflow\\workspace\\images\\images\\crop\\agri_0_5938.jpeg -> Annotation:D:/8th sem/Weed detection system using TinyMl/Project1/Tensorflow/workspace/images/images/crop\\agri_0_5938.xml\n",
      "Image:D:\\8th sem\\Weed detection system using TinyMl\\Project1\\Tensorflow\\workspace\\images\\images\\crop\\agri_0_5939.jpeg -> Annotation:D:/8th sem/Weed detection system using TinyMl/Project1/Tensorflow/workspace/images/images/crop\\agri_0_5939.xml\n",
      "Image:D:\\8th sem\\Weed detection system using TinyMl\\Project1\\Tensorflow\\workspace\\images\\images\\crop\\agri_0_5947.jpeg -> Annotation:D:/8th sem/Weed detection system using TinyMl/Project1/Tensorflow/workspace/images/images/crop\\agri_0_5947.xml\n",
      "Image:D:\\8th sem\\Weed detection system using TinyMl\\Project1\\Tensorflow\\workspace\\images\\images\\crop\\agri_0_5961.jpeg -> Annotation:D:/8th sem/Weed detection system using TinyMl/Project1/Tensorflow/workspace/images/images/crop\\agri_0_5961.xml\n",
      "Image:D:\\8th sem\\Weed detection system using TinyMl\\Project1\\Tensorflow\\workspace\\images\\images\\crop\\agri_0_5994.jpeg -> Annotation:D:/8th sem/Weed detection system using TinyMl/Project1/Tensorflow/workspace/images/images/crop\\agri_0_5994.xml\n",
      "Image:D:\\8th sem\\Weed detection system using TinyMl\\Project1\\Tensorflow\\workspace\\images\\images\\crop\\agri_0_6011.jpeg -> Annotation:D:/8th sem/Weed detection system using TinyMl/Project1/Tensorflow/workspace/images/images/crop\\agri_0_6011.xml\n",
      "Image:D:\\8th sem\\Weed detection system using TinyMl\\Project1\\Tensorflow\\workspace\\images\\images\\crop\\agri_0_6031.jpeg -> Annotation:D:/8th sem/Weed detection system using TinyMl/Project1/Tensorflow/workspace/images/images/crop\\agri_0_6031.xml\n",
      "Image:D:\\8th sem\\Weed detection system using TinyMl\\Project1\\Tensorflow\\workspace\\images\\images\\crop\\agri_0_6039.jpeg -> Annotation:D:/8th sem/Weed detection system using TinyMl/Project1/Tensorflow/workspace/images/images/crop\\agri_0_6039.xml\n",
      "Image:D:\\8th sem\\Weed detection system using TinyMl\\Project1\\Tensorflow\\workspace\\images\\images\\crop\\agri_0_6042.jpeg -> Annotation:D:/8th sem/Weed detection system using TinyMl/Project1/Tensorflow/workspace/images/images/crop\\agri_0_6042.xml\n",
      "Image:D:\\8th sem\\Weed detection system using TinyMl\\Project1\\Tensorflow\\workspace\\images\\images\\crop\\agri_0_6055.jpeg -> Annotation:D:/8th sem/Weed detection system using TinyMl/Project1/Tensorflow/workspace/images/images/crop\\agri_0_6055.xml\n",
      "Image:D:\\8th sem\\Weed detection system using TinyMl\\Project1\\Tensorflow\\workspace\\images\\images\\crop\\agri_0_6097.jpeg -> Annotation:D:/8th sem/Weed detection system using TinyMl/Project1/Tensorflow/workspace/images/images/crop\\agri_0_6097.xml\n",
      "Image:D:\\8th sem\\Weed detection system using TinyMl\\Project1\\Tensorflow\\workspace\\images\\images\\crop\\agri_0_6100.jpeg -> Annotation:D:/8th sem/Weed detection system using TinyMl/Project1/Tensorflow/workspace/images/images/crop\\agri_0_6100.xml\n",
      "Image:D:\\8th sem\\Weed detection system using TinyMl\\Project1\\Tensorflow\\workspace\\images\\images\\crop\\agri_0_6120.jpeg -> Annotation:D:/8th sem/Weed detection system using TinyMl/Project1/Tensorflow/workspace/images/images/crop\\agri_0_6120.xml\n",
      "Image:D:\\8th sem\\Weed detection system using TinyMl\\Project1\\Tensorflow\\workspace\\images\\images\\crop\\agri_0_6126.jpeg -> Annotation:D:/8th sem/Weed detection system using TinyMl/Project1/Tensorflow/workspace/images/images/crop\\agri_0_6126.xml\n",
      "Image:D:\\8th sem\\Weed detection system using TinyMl\\Project1\\Tensorflow\\workspace\\images\\images\\crop\\agri_0_6152.jpeg -> Annotation:D:/8th sem/Weed detection system using TinyMl/Project1/Tensorflow/workspace/images/images/crop\\agri_0_6152.xml\n",
      "Image:D:\\8th sem\\Weed detection system using TinyMl\\Project1\\Tensorflow\\workspace\\images\\images\\crop\\agri_0_6157.jpeg -> Annotation:D:/8th sem/Weed detection system using TinyMl/Project1/Tensorflow/workspace/images/images/crop\\agri_0_6157.xml\n",
      "Image:D:\\8th sem\\Weed detection system using TinyMl\\Project1\\Tensorflow\\workspace\\images\\images\\crop\\agri_0_6166.jpeg -> Annotation:D:/8th sem/Weed detection system using TinyMl/Project1/Tensorflow/workspace/images/images/crop\\agri_0_6166.xml\n",
      "Image:D:\\8th sem\\Weed detection system using TinyMl\\Project1\\Tensorflow\\workspace\\images\\images\\crop\\agri_0_6196.jpeg -> Annotation:D:/8th sem/Weed detection system using TinyMl/Project1/Tensorflow/workspace/images/images/crop\\agri_0_6196.xml\n",
      "Image:D:\\8th sem\\Weed detection system using TinyMl\\Project1\\Tensorflow\\workspace\\images\\images\\crop\\agri_0_6212.jpeg -> Annotation:D:/8th sem/Weed detection system using TinyMl/Project1/Tensorflow/workspace/images/images/crop\\agri_0_6212.xml\n",
      "Image:D:\\8th sem\\Weed detection system using TinyMl\\Project1\\Tensorflow\\workspace\\images\\images\\crop\\agri_0_6270.jpeg -> Annotation:D:/8th sem/Weed detection system using TinyMl/Project1/Tensorflow/workspace/images/images/crop\\agri_0_6270.xml\n",
      "Image:D:\\8th sem\\Weed detection system using TinyMl\\Project1\\Tensorflow\\workspace\\images\\images\\crop\\agri_0_6276.jpeg -> Annotation:D:/8th sem/Weed detection system using TinyMl/Project1/Tensorflow/workspace/images/images/crop\\agri_0_6276.xml\n",
      "Image:D:\\8th sem\\Weed detection system using TinyMl\\Project1\\Tensorflow\\workspace\\images\\images\\crop\\agri_0_6286.jpeg -> Annotation:D:/8th sem/Weed detection system using TinyMl/Project1/Tensorflow/workspace/images/images/crop\\agri_0_6286.xml\n",
      "Image:D:\\8th sem\\Weed detection system using TinyMl\\Project1\\Tensorflow\\workspace\\images\\images\\crop\\agri_0_6312.jpeg -> Annotation:D:/8th sem/Weed detection system using TinyMl/Project1/Tensorflow/workspace/images/images/crop\\agri_0_6312.xml\n",
      "Image:D:\\8th sem\\Weed detection system using TinyMl\\Project1\\Tensorflow\\workspace\\images\\images\\crop\\agri_0_6339.jpeg -> Annotation:D:/8th sem/Weed detection system using TinyMl/Project1/Tensorflow/workspace/images/images/crop\\agri_0_6339.xml\n",
      "Image:D:\\8th sem\\Weed detection system using TinyMl\\Project1\\Tensorflow\\workspace\\images\\images\\crop\\agri_0_6342.jpeg -> Annotation:D:/8th sem/Weed detection system using TinyMl/Project1/Tensorflow/workspace/images/images/crop\\agri_0_6342.xml\n",
      "Image:D:\\8th sem\\Weed detection system using TinyMl\\Project1\\Tensorflow\\workspace\\images\\images\\crop\\agri_0_6346.jpeg -> Annotation:D:/8th sem/Weed detection system using TinyMl/Project1/Tensorflow/workspace/images/images/crop\\agri_0_6346.xml\n",
      "Image:D:\\8th sem\\Weed detection system using TinyMl\\Project1\\Tensorflow\\workspace\\images\\images\\crop\\agri_0_6353.jpeg -> Annotation:D:/8th sem/Weed detection system using TinyMl/Project1/Tensorflow/workspace/images/images/crop\\agri_0_6353.xml\n",
      "Image:D:\\8th sem\\Weed detection system using TinyMl\\Project1\\Tensorflow\\workspace\\images\\images\\crop\\agri_0_6387.jpeg -> Annotation:D:/8th sem/Weed detection system using TinyMl/Project1/Tensorflow/workspace/images/images/crop\\agri_0_6387.xml\n",
      "Image:D:\\8th sem\\Weed detection system using TinyMl\\Project1\\Tensorflow\\workspace\\images\\images\\crop\\agri_0_6387.jpeg -> Annotation:D:/8th sem/Weed detection system using TinyMl/Project1/Tensorflow/workspace/images/images/crop\\agri_0_6387.xml\n",
      "Image:D:\\8th sem\\Weed detection system using TinyMl\\Project1\\Tensorflow\\workspace\\images\\images\\crop\\agri_0_6395.jpeg -> Annotation:D:/8th sem/Weed detection system using TinyMl/Project1/Tensorflow/workspace/images/images/crop\\agri_0_6395.xml\n",
      "Image:D:\\8th sem\\Weed detection system using TinyMl\\Project1\\Tensorflow\\workspace\\images\\images\\crop\\agri_0_6407.jpeg -> Annotation:D:/8th sem/Weed detection system using TinyMl/Project1/Tensorflow/workspace/images/images/crop\\agri_0_6407.xml\n",
      "Image:D:\\8th sem\\Weed detection system using TinyMl\\Project1\\Tensorflow\\workspace\\images\\images\\crop\\agri_0_6412.jpeg -> Annotation:D:/8th sem/Weed detection system using TinyMl/Project1/Tensorflow/workspace/images/images/crop\\agri_0_6412.xml\n",
      "Image:D:\\8th sem\\Weed detection system using TinyMl\\Project1\\Tensorflow\\workspace\\images\\images\\crop\\agri_0_6417.jpeg -> Annotation:D:/8th sem/Weed detection system using TinyMl/Project1/Tensorflow/workspace/images/images/crop\\agri_0_6417.xml\n",
      "Image:D:\\8th sem\\Weed detection system using TinyMl\\Project1\\Tensorflow\\workspace\\images\\images\\crop\\agri_0_6419.jpeg -> Annotation:D:/8th sem/Weed detection system using TinyMl/Project1/Tensorflow/workspace/images/images/crop\\agri_0_6419.xml\n",
      "Image:D:\\8th sem\\Weed detection system using TinyMl\\Project1\\Tensorflow\\workspace\\images\\images\\crop\\agri_0_6440.jpeg -> Annotation:D:/8th sem/Weed detection system using TinyMl/Project1/Tensorflow/workspace/images/images/crop\\agri_0_6440.xml\n",
      "Image:D:\\8th sem\\Weed detection system using TinyMl\\Project1\\Tensorflow\\workspace\\images\\images\\crop\\agri_0_6447.jpeg -> Annotation:D:/8th sem/Weed detection system using TinyMl/Project1/Tensorflow/workspace/images/images/crop\\agri_0_6447.xml\n",
      "Image:D:\\8th sem\\Weed detection system using TinyMl\\Project1\\Tensorflow\\workspace\\images\\images\\crop\\agri_0_6449.jpeg -> Annotation:D:/8th sem/Weed detection system using TinyMl/Project1/Tensorflow/workspace/images/images/crop\\agri_0_6449.xml\n",
      "Image:D:\\8th sem\\Weed detection system using TinyMl\\Project1\\Tensorflow\\workspace\\images\\images\\crop\\agri_0_6461.jpeg -> Annotation:D:/8th sem/Weed detection system using TinyMl/Project1/Tensorflow/workspace/images/images/crop\\agri_0_6461.xml\n",
      "Image:D:\\8th sem\\Weed detection system using TinyMl\\Project1\\Tensorflow\\workspace\\images\\images\\crop\\agri_0_6504.jpeg -> Annotation:D:/8th sem/Weed detection system using TinyMl/Project1/Tensorflow/workspace/images/images/crop\\agri_0_6504.xml\n",
      "Image:D:\\8th sem\\Weed detection system using TinyMl\\Project1\\Tensorflow\\workspace\\images\\images\\crop\\agri_0_6518.jpeg -> Annotation:D:/8th sem/Weed detection system using TinyMl/Project1/Tensorflow/workspace/images/images/crop\\agri_0_6518.xml\n",
      "Image:D:\\8th sem\\Weed detection system using TinyMl\\Project1\\Tensorflow\\workspace\\images\\images\\crop\\agri_0_6520.jpeg -> Annotation:D:/8th sem/Weed detection system using TinyMl/Project1/Tensorflow/workspace/images/images/crop\\agri_0_6520.xml\n",
      "Image:D:\\8th sem\\Weed detection system using TinyMl\\Project1\\Tensorflow\\workspace\\images\\images\\crop\\agri_0_6537.jpeg -> Annotation:D:/8th sem/Weed detection system using TinyMl/Project1/Tensorflow/workspace/images/images/crop\\agri_0_6537.xml\n",
      "Image:D:\\8th sem\\Weed detection system using TinyMl\\Project1\\Tensorflow\\workspace\\images\\images\\crop\\agri_0_6547.jpeg -> Annotation:D:/8th sem/Weed detection system using TinyMl/Project1/Tensorflow/workspace/images/images/crop\\agri_0_6547.xml\n",
      "Image:D:\\8th sem\\Weed detection system using TinyMl\\Project1\\Tensorflow\\workspace\\images\\images\\crop\\agri_0_6565.jpeg -> Annotation:D:/8th sem/Weed detection system using TinyMl/Project1/Tensorflow/workspace/images/images/crop\\agri_0_6565.xml\n",
      "Image:D:\\8th sem\\Weed detection system using TinyMl\\Project1\\Tensorflow\\workspace\\images\\images\\crop\\agri_0_6572.jpeg -> Annotation:D:/8th sem/Weed detection system using TinyMl/Project1/Tensorflow/workspace/images/images/crop\\agri_0_6572.xml\n",
      "Image:D:\\8th sem\\Weed detection system using TinyMl\\Project1\\Tensorflow\\workspace\\images\\images\\crop\\agri_0_6605.jpeg -> Annotation:D:/8th sem/Weed detection system using TinyMl/Project1/Tensorflow/workspace/images/images/crop\\agri_0_6605.xml\n",
      "Image:D:\\8th sem\\Weed detection system using TinyMl\\Project1\\Tensorflow\\workspace\\images\\images\\crop\\agri_0_6642.jpeg -> Annotation:D:/8th sem/Weed detection system using TinyMl/Project1/Tensorflow/workspace/images/images/crop\\agri_0_6642.xml\n",
      "Image:D:\\8th sem\\Weed detection system using TinyMl\\Project1\\Tensorflow\\workspace\\images\\images\\crop\\agri_0_6668.jpeg -> Annotation:D:/8th sem/Weed detection system using TinyMl/Project1/Tensorflow/workspace/images/images/crop\\agri_0_6668.xml\n",
      "Image:D:\\8th sem\\Weed detection system using TinyMl\\Project1\\Tensorflow\\workspace\\images\\images\\crop\\agri_0_6697.jpeg -> Annotation:D:/8th sem/Weed detection system using TinyMl/Project1/Tensorflow/workspace/images/images/crop\\agri_0_6697.xml\n",
      "Image:D:\\8th sem\\Weed detection system using TinyMl\\Project1\\Tensorflow\\workspace\\images\\images\\crop\\agri_0_6707.jpeg -> Annotation:D:/8th sem/Weed detection system using TinyMl/Project1/Tensorflow/workspace/images/images/crop\\agri_0_6707.xml\n",
      "Image:D:\\8th sem\\Weed detection system using TinyMl\\Project1\\Tensorflow\\workspace\\images\\images\\crop\\agri_0_6717.jpeg -> Annotation:D:/8th sem/Weed detection system using TinyMl/Project1/Tensorflow/workspace/images/images/crop\\agri_0_6717.xml\n",
      "Image:D:\\8th sem\\Weed detection system using TinyMl\\Project1\\Tensorflow\\workspace\\images\\images\\crop\\agri_0_6776.jpeg -> Annotation:D:/8th sem/Weed detection system using TinyMl/Project1/Tensorflow/workspace/images/images/crop\\agri_0_6776.xml\n",
      "Image:D:\\8th sem\\Weed detection system using TinyMl\\Project1\\Tensorflow\\workspace\\images\\images\\crop\\agri_0_6801.jpeg -> Annotation:D:/8th sem/Weed detection system using TinyMl/Project1/Tensorflow/workspace/images/images/crop\\agri_0_6801.xml\n",
      "Image:D:\\8th sem\\Weed detection system using TinyMl\\Project1\\Tensorflow\\workspace\\images\\images\\crop\\agri_0_6814.jpeg -> Annotation:D:/8th sem/Weed detection system using TinyMl/Project1/Tensorflow/workspace/images/images/crop\\agri_0_6814.xml\n",
      "Image:D:\\8th sem\\Weed detection system using TinyMl\\Project1\\Tensorflow\\workspace\\images\\images\\crop\\agri_0_6831.jpeg -> Annotation:D:/8th sem/Weed detection system using TinyMl/Project1/Tensorflow/workspace/images/images/crop\\agri_0_6831.xml\n",
      "Image:D:\\8th sem\\Weed detection system using TinyMl\\Project1\\Tensorflow\\workspace\\images\\images\\crop\\agri_0_6848.jpeg -> Annotation:D:/8th sem/Weed detection system using TinyMl/Project1/Tensorflow/workspace/images/images/crop\\agri_0_6848.xml\n",
      "Image:D:\\8th sem\\Weed detection system using TinyMl\\Project1\\Tensorflow\\workspace\\images\\images\\crop\\agri_0_6852.jpeg -> Annotation:D:/8th sem/Weed detection system using TinyMl/Project1/Tensorflow/workspace/images/images/crop\\agri_0_6852.xml\n",
      "Image:D:\\8th sem\\Weed detection system using TinyMl\\Project1\\Tensorflow\\workspace\\images\\images\\crop\\agri_0_6857.jpeg -> Annotation:D:/8th sem/Weed detection system using TinyMl/Project1/Tensorflow/workspace/images/images/crop\\agri_0_6857.xml\n",
      "Image:D:\\8th sem\\Weed detection system using TinyMl\\Project1\\Tensorflow\\workspace\\images\\images\\crop\\agri_0_6858.jpeg -> Annotation:D:/8th sem/Weed detection system using TinyMl/Project1/Tensorflow/workspace/images/images/crop\\agri_0_6858.xml\n",
      "Cancel creation.\n",
      "Image:D:\\8th sem\\Weed detection system using TinyMl\\Project1\\Tensorflow\\workspace\\images\\images\\crop\\agri_0_6870.jpeg -> Annotation:D:/8th sem/Weed detection system using TinyMl/Project1/Tensorflow/workspace/images/images/crop\\agri_0_6870.xml\n"
     ]
    },
    {
     "name": "stderr",
     "output_type": "stream",
     "text": [
      "qt.qpa.fonts: Unable to open default EUDC font: \"EUDC.TTE\"\n"
     ]
    }
   ],
   "source": [
    "!cd {LABELIMG_PATH} && python labelImg.py"
   ]
  },
  {
   "cell_type": "markdown",
   "id": "8e0fa60f",
   "metadata": {},
   "source": [
    "# 5. Spliting Images into Training and Testing\n",
    "<p>Spliting Done explicitly</p>"
   ]
  },
  {
   "cell_type": "markdown",
   "id": "cd215043",
   "metadata": {},
   "source": [
    "# 6. Compress Images for Training"
   ]
  },
  {
   "cell_type": "code",
   "execution_count": 25,
   "id": "d78cd918",
   "metadata": {},
   "outputs": [],
   "source": [
    "TRAIN_PATH = os.path.join('Tensorflow', 'workspace', 'images', 'train')\n",
    "TEST_PATH = os.path.join('Tensorflow', 'workspace', 'images', 'test')\n",
    "ARCHIVE_PATH = os.path.join('Tensorflow', 'workspace', 'images', 'archive.tar.gz')"
   ]
  },
  {
   "cell_type": "code",
   "execution_count": 26,
   "id": "0e5010f5",
   "metadata": {},
   "outputs": [],
   "source": [
    "!tar -czf {ARCHIVE_PATH} {TRAIN_PATH} {TEST_PATH}"
   ]
  },
  {
   "cell_type": "code",
   "execution_count": 8,
   "id": "1a33f78e",
   "metadata": {
    "collapsed": true
   },
   "outputs": [
    {
     "name": "stdout",
     "output_type": "stream",
     "text": [
      "Collecting imutils\n",
      "  Using cached imutils-0.5.4.tar.gz (17 kB)\n",
      "  Installing build dependencies: started\n",
      "  Installing build dependencies: finished with status 'done'\n",
      "  Getting requirements to build wheel: started\n",
      "  Getting requirements to build wheel: finished with status 'done'\n",
      "  Preparing metadata (pyproject.toml): started\n",
      "  Preparing metadata (pyproject.toml): finished with status 'done'\n",
      "Building wheels for collected packages: imutils\n",
      "  Building wheel for imutils (pyproject.toml): started\n",
      "  Building wheel for imutils (pyproject.toml): finished with status 'done'\n",
      "  Created wheel for imutils: filename=imutils-0.5.4-py3-none-any.whl size=25855 sha256=86c3359a440b6fcabf02a1679d1ed5a934d05f2c0acde2697d692db03d948d69\n",
      "  Stored in directory: c:\\users\\dell\\appdata\\local\\pip\\cache\\wheels\\31\\d0\\2c\\87ce38f6052879e5b7b18f0f8b4a10ad2a9d210e908d449f16\n",
      "Successfully built imutils\n",
      "Installing collected packages: imutils\n",
      "Successfully installed imutils-0.5.4\n",
      "Note: you may need to restart the kernel to use updated packages.\n"
     ]
    }
   ],
   "source": []
  },
  {
   "cell_type": "code",
   "execution_count": null,
   "id": "a07fb874",
   "metadata": {},
   "outputs": [],
   "source": []
  }
 ],
 "metadata": {
  "kernelspec": {
   "display_name": "tfwd",
   "language": "python",
   "name": "tfwd"
  },
  "language_info": {
   "codemirror_mode": {
    "name": "ipython",
    "version": 3
   },
   "file_extension": ".py",
   "mimetype": "text/x-python",
   "name": "python",
   "nbconvert_exporter": "python",
   "pygments_lexer": "ipython3",
   "version": "3.11.3"
  }
 },
 "nbformat": 4,
 "nbformat_minor": 5
}
