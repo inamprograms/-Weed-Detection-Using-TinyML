{
 "cells": [
  {
   "cell_type": "markdown",
   "id": "f5aa4db1",
   "metadata": {},
   "source": [
    "# 1. Import Dependencies"
   ]
  },
  {
   "cell_type": "code",
   "execution_count": 1,
   "id": "47fd91f1",
   "metadata": {},
   "outputs": [
    {
     "name": "stdout",
     "output_type": "stream",
     "text": [
      "Requirement already satisfied: opencv-python in d:\\8th sem\\weed detection system using tinyml\\project1\\tfwd\\lib\\site-packages (4.7.0.72)\n",
      "Requirement already satisfied: numpy>=1.21.2 in d:\\8th sem\\weed detection system using tinyml\\project1\\tfwd\\lib\\site-packages (from opencv-python) (1.24.3)\n"
     ]
    }
   ],
   "source": [
    "!pip install opencv-python"
   ]
  },
  {
   "cell_type": "code",
   "execution_count": 2,
   "id": "81c48475",
   "metadata": {},
   "outputs": [],
   "source": [
    "# Import opencv\n",
    "import cv2\n",
    "\n",
    "# Import uuid\n",
    "import uuid \n",
    "\n",
    "# Import Operating System\n",
    "import os\n",
    "\n",
    "# Import time\n",
    "import time\n",
    "\n",
    "# # Import numpy\n",
    "# import numpy as np\n",
    "\n",
    "from imutils import paths"
   ]
  },
  {
   "cell_type": "markdown",
   "id": "d8ed9245",
   "metadata": {},
   "source": [
    "# 2. Setup Path for Images"
   ]
  },
  {
   "cell_type": "code",
   "execution_count": 3,
   "id": "45e8ac37",
   "metadata": {},
   "outputs": [],
   "source": [
    "datapath = \"D:\\8th sem\\Weed detection system using TinyMl\\Project1\\Tensorflow\\workspace\\data\\images\""
   ]
  },
  {
   "cell_type": "markdown",
   "id": "8c6ac91d",
   "metadata": {},
   "source": [
    "# 3. Load Images"
   ]
  },
  {
   "cell_type": "code",
   "execution_count": 4,
   "id": "6de44840",
   "metadata": {},
   "outputs": [
    {
     "name": "stdout",
     "output_type": "stream",
     "text": [
      "Images being loaded...\n",
      "[array([[[255, 255, 213],\n",
      "        [255, 208, 155],\n",
      "        [146,  94,  41],\n",
      "        ...,\n",
      "        [154,  83,  20],\n",
      "        [154,  83,  20],\n",
      "        [154,  83,  20]],\n",
      "\n",
      "       [[254, 201, 151],\n",
      "        [166, 110,  61],\n",
      "        [134,  77,  26],\n",
      "        ...,\n",
      "        [154,  83,  20],\n",
      "        [154,  83,  20],\n",
      "        [154,  83,  20]],\n",
      "\n",
      "       [[174, 108,  67],\n",
      "        [131,  66,  22],\n",
      "        [151,  84,  39],\n",
      "        ...,\n",
      "        [154,  83,  20],\n",
      "        [154,  83,  20],\n",
      "        [154,  83,  20]],\n",
      "\n",
      "       ...,\n",
      "\n",
      "       [[232, 232, 232],\n",
      "        [232, 232, 232],\n",
      "        [232, 232, 232],\n",
      "        ...,\n",
      "        [212, 212, 224],\n",
      "        [211, 211, 223],\n",
      "        [211, 211, 223]],\n",
      "\n",
      "       [[229, 229, 229],\n",
      "        [231, 231, 231],\n",
      "        [232, 232, 232],\n",
      "        ...,\n",
      "        [211, 211, 223],\n",
      "        [209, 209, 221],\n",
      "        [211, 211, 223]],\n",
      "\n",
      "       [[229, 229, 229],\n",
      "        [231, 231, 231],\n",
      "        [232, 232, 232],\n",
      "        ...,\n",
      "        [211, 211, 223],\n",
      "        [209, 209, 221],\n",
      "        [211, 211, 223]]], dtype=uint8)]\n"
     ]
    }
   ],
   "source": [
    "data_labels= (['crop', 'weed'])\n",
    "number_imgs = 5\n",
    "print(\"Images being loaded...\")\n",
    "pathToImages = list(paths.list_images(datapath))\n",
    "data = []\n",
    "labels = []\n",
    "\n",
    "for images in pathToImages:\n",
    "    label = images.split(os.path.sep)[-2]\n",
    "    if label not in data_labels:\n",
    "        continue\n",
    "    image = cv2.imread(images)\n",
    "    data.append(image)\n",
    "    labels.append(label)\n",
    "    print(data)\n",
    "    "
   ]
  },
  {
   "cell_type": "markdown",
   "id": "1dae1bfd",
   "metadata": {},
   "source": [
    "# 4. Image Labelling"
   ]
  },
  {
   "cell_type": "code",
   "execution_count": 5,
   "id": "ba7234e1",
   "metadata": {},
   "outputs": [
    {
     "name": "stdout",
     "output_type": "stream",
     "text": [
      "Requirement already satisfied: pyqt5 in d:\\8th sem\\weed detection system using tinyml\\project1\\tfwd\\lib\\site-packages (5.15.9)\n",
      "Requirement already satisfied: lxml in d:\\8th sem\\weed detection system using tinyml\\project1\\tfwd\\lib\\site-packages (4.9.2)\n",
      "Requirement already satisfied: PyQt5-sip<13,>=12.11 in d:\\8th sem\\weed detection system using tinyml\\project1\\tfwd\\lib\\site-packages (from pyqt5) (12.12.1)\n",
      "Requirement already satisfied: PyQt5-Qt5>=5.15.2 in d:\\8th sem\\weed detection system using tinyml\\project1\\tfwd\\lib\\site-packages (from pyqt5) (5.15.2)\n"
     ]
    }
   ],
   "source": [
    "!pip install --upgrade pyqt5 lxml"
   ]
  },
  {
   "cell_type": "code",
   "execution_count": 6,
   "id": "dc9fe83c",
   "metadata": {
    "scrolled": true
   },
   "outputs": [],
   "source": [
    "LABELIMG_PATH = os.path.join('Tensorflow', 'labelimg')"
   ]
  },
  {
   "cell_type": "code",
   "execution_count": 9,
   "id": "e389b1ec",
   "metadata": {},
   "outputs": [],
   "source": [
    "if not os.path.exists(LABELIMG_PATH):\n",
    "    !mkdir {LABELIMG_PATH}\n",
    "#     !git clone https://github.com/heartexlabs/labelImg {LABELIMG_PATH}"
   ]
  },
  {
   "cell_type": "code",
   "execution_count": 11,
   "id": "72f556eb",
   "metadata": {},
   "outputs": [],
   "source": [
    "if os.name == 'posix':\n",
    "    !cd {LABELIMG_PATH} && make qt5py3\n",
    "if os.name == 'nt':\n",
    "    !cd {LABELIMG_PATH} && pyrcc5 -o libs/resources.py resources.qrc"
   ]
  },
  {
   "cell_type": "code",
   "execution_count": 12,
   "id": "1f6a18bf",
   "metadata": {},
   "outputs": [
    {
     "name": "stderr",
     "output_type": "stream",
     "text": [
      "qt.qpa.fonts: Unable to open default EUDC font: \"EUDC.TTE\"\n"
     ]
    }
   ],
   "source": [
    "!cd {LABELIMG_PATH} && python labelImg.py"
   ]
  },
  {
   "cell_type": "markdown",
   "id": "8e0fa60f",
   "metadata": {},
   "source": [
    "# 5. Spliting Images into Training and Testing\n",
    "<p>Spliting Done explicitly</p>"
   ]
  },
  {
   "cell_type": "markdown",
   "id": "cd215043",
   "metadata": {},
   "source": [
    "# 6. Compress Images for Training"
   ]
  },
  {
   "cell_type": "code",
   "execution_count": 13,
   "id": "d78cd918",
   "metadata": {},
   "outputs": [],
   "source": [
    "TRAIN_PATH = os.path.join('Tensorflow', 'workspace', 'data', 'train')\n",
    "TEST_PATH = os.path.join('Tensorflow', 'workspace', 'data', 'test')\n",
    "ARCHIVE_PATH = os.path.join('Tensorflow', 'workspace', 'data', 'archive.tar.gz')"
   ]
  },
  {
   "cell_type": "code",
   "execution_count": 14,
   "id": "0e5010f5",
   "metadata": {},
   "outputs": [],
   "source": [
    "!tar -czf {ARCHIVE_PATH} {TRAIN_PATH} {TEST_PATH}"
   ]
  },
  {
   "cell_type": "code",
   "execution_count": 8,
   "id": "1a33f78e",
   "metadata": {
    "collapsed": true
   },
   "outputs": [
    {
     "name": "stdout",
     "output_type": "stream",
     "text": [
      "Collecting imutils\n",
      "  Using cached imutils-0.5.4.tar.gz (17 kB)\n",
      "  Installing build dependencies: started\n",
      "  Installing build dependencies: finished with status 'done'\n",
      "  Getting requirements to build wheel: started\n",
      "  Getting requirements to build wheel: finished with status 'done'\n",
      "  Preparing metadata (pyproject.toml): started\n",
      "  Preparing metadata (pyproject.toml): finished with status 'done'\n",
      "Building wheels for collected packages: imutils\n",
      "  Building wheel for imutils (pyproject.toml): started\n",
      "  Building wheel for imutils (pyproject.toml): finished with status 'done'\n",
      "  Created wheel for imutils: filename=imutils-0.5.4-py3-none-any.whl size=25855 sha256=86c3359a440b6fcabf02a1679d1ed5a934d05f2c0acde2697d692db03d948d69\n",
      "  Stored in directory: c:\\users\\dell\\appdata\\local\\pip\\cache\\wheels\\31\\d0\\2c\\87ce38f6052879e5b7b18f0f8b4a10ad2a9d210e908d449f16\n",
      "Successfully built imutils\n",
      "Installing collected packages: imutils\n",
      "Successfully installed imutils-0.5.4\n",
      "Note: you may need to restart the kernel to use updated packages.\n"
     ]
    }
   ],
   "source": []
  },
  {
   "cell_type": "code",
   "execution_count": null,
   "id": "a07fb874",
   "metadata": {},
   "outputs": [],
   "source": []
  }
 ],
 "metadata": {
  "kernelspec": {
   "display_name": "tfwd",
   "language": "python",
   "name": "tfwd"
  },
  "language_info": {
   "codemirror_mode": {
    "name": "ipython",
    "version": 3
   },
   "file_extension": ".py",
   "mimetype": "text/x-python",
   "name": "python",
   "nbconvert_exporter": "python",
   "pygments_lexer": "ipython3",
   "version": "3.11.3"
  }
 },
 "nbformat": 4,
 "nbformat_minor": 5
}
