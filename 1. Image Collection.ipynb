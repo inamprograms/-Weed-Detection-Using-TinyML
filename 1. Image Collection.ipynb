{
 "cells": [
  {
   "cell_type": "markdown",
   "id": "f5aa4db1",
   "metadata": {},
   "source": [
    "# 1. Import Dependencies"
   ]
  },
  {
   "cell_type": "code",
   "execution_count": 1,
   "id": "47fd91f1",
   "metadata": {},
   "outputs": [
    {
     "name": "stdout",
     "output_type": "stream",
     "text": [
      "Requirement already satisfied: opencv-python in d:\\8th sem\\weed detection system using tinyml\\project1\\tfwd\\lib\\site-packages (4.7.0.72)\n",
      "Requirement already satisfied: numpy>=1.21.2 in d:\\8th sem\\weed detection system using tinyml\\project1\\tfwd\\lib\\site-packages (from opencv-python) (1.24.3)\n"
     ]
    }
   ],
   "source": [
    "!pip install opencv-python"
   ]
  },
  {
   "cell_type": "code",
   "execution_count": 1,
   "id": "81c48475",
   "metadata": {},
   "outputs": [],
   "source": [
    "# Import opencv\n",
    "import cv2\n",
    "\n",
    "# Import uuid\n",
    "import uuid \n",
    "\n",
    "# Import Operating System\n",
    "import os\n",
    "\n",
    "# Import time\n",
    "import time\n",
    "\n",
    "# # Import numpy\n",
    "# import numpy as np\n",
    "\n",
    "from imutils import paths"
   ]
  },
  {
   "cell_type": "markdown",
   "id": "d8ed9245",
   "metadata": {},
   "source": [
    "# 2. Setup Path for Images"
   ]
  },
  {
   "cell_type": "code",
   "execution_count": 2,
   "id": "45e8ac37",
   "metadata": {},
   "outputs": [
    {
     "name": "stdout",
     "output_type": "stream",
     "text": [
      "D:\\8th sem\\Weed detection system using TinyMl\\Project1\\Tensorflow\\workspace\\images\\images\n"
     ]
    }
   ],
   "source": [
    "datapath = \"D:\\8th sem\\Weed detection system using TinyMl\\Project1\\Tensorflow\\workspace\\images\\images\"\n",
    "print(datapath)"
   ]
  },
  {
   "cell_type": "markdown",
   "id": "8c6ac91d",
   "metadata": {},
   "source": [
    "# 3. Load Images"
   ]
  },
  {
   "cell_type": "code",
   "execution_count": 3,
   "id": "6de44840",
   "metadata": {},
   "outputs": [
    {
     "name": "stdout",
     "output_type": "stream",
     "text": [
      "Images being loaded...\n"
     ]
    }
   ],
   "source": [
    "data_labels= (['crop', 'weed'])\n",
    "number_imgs = 5\n",
    "print(\"Images being loaded...\")\n",
    "pathToImages = list(paths.list_images(datapath))\n",
    "data = []\n",
    "labels = []\n",
    "\n",
    "for images in pathToImages:\n",
    "    label = images.split(os.path.sep)[-2]\n",
    "    if label not in data_labels:\n",
    "        continue\n",
    "    image = cv2.imread(images)\n",
    "    data.append(image)\n",
    "    labels.append(label)\n",
    "#     print(data)\n",
    "    "
   ]
  },
  {
   "cell_type": "markdown",
   "id": "1dae1bfd",
   "metadata": {},
   "source": [
    "# 4. Image Labelling"
   ]
  },
  {
   "cell_type": "code",
   "execution_count": 4,
   "id": "ba7234e1",
   "metadata": {},
   "outputs": [
    {
     "name": "stdout",
     "output_type": "stream",
     "text": [
      "Requirement already satisfied: pyqt5 in d:\\8th sem\\weed detection system using tinyml\\project1\\tfwd\\lib\\site-packages (5.15.9)\n",
      "Requirement already satisfied: lxml in d:\\8th sem\\weed detection system using tinyml\\project1\\tfwd\\lib\\site-packages (4.9.2)\n",
      "Requirement already satisfied: PyQt5-sip<13,>=12.11 in d:\\8th sem\\weed detection system using tinyml\\project1\\tfwd\\lib\\site-packages (from pyqt5) (12.12.1)\n",
      "Requirement already satisfied: PyQt5-Qt5>=5.15.2 in d:\\8th sem\\weed detection system using tinyml\\project1\\tfwd\\lib\\site-packages (from pyqt5) (5.15.2)\n"
     ]
    }
   ],
   "source": [
    "!pip install --upgrade pyqt5 lxml"
   ]
  },
  {
   "cell_type": "code",
   "execution_count": 5,
   "id": "dc9fe83c",
   "metadata": {
    "scrolled": true
   },
   "outputs": [],
   "source": [
    "LABELIMG_PATH = os.path.join('Tensorflow', 'labelimg')"
   ]
  },
  {
   "cell_type": "code",
   "execution_count": 6,
   "id": "e389b1ec",
   "metadata": {},
   "outputs": [],
   "source": [
    "if not os.path.exists(LABELIMG_PATH):\n",
    "    !mkdir {LABELIMG_PATH}\n",
    "#     !git clone https://github.com/heartexlabs/labelImg {LABELIMG_PATH}"
   ]
  },
  {
   "cell_type": "code",
   "execution_count": 7,
   "id": "72f556eb",
   "metadata": {},
   "outputs": [],
   "source": [
    "if os.name == 'posix':\n",
    "    !cd {LABELIMG_PATH} && make qt5py3\n",
    "if os.name == 'nt':\n",
    "    !cd {LABELIMG_PATH} && pyrcc5 -o libs/resources.py resources.qrc"
   ]
  },
  {
   "cell_type": "code",
   "execution_count": 8,
   "id": "1f6a18bf",
   "metadata": {
    "collapsed": true
   },
   "outputs": [
    {
     "name": "stdout",
     "output_type": "stream",
     "text": [
      "Image:D:\\8th sem\\Weed detection system using TinyMl\\Project1\\Tensorflow\\workspace\\images\\images\\crop\\agri_0_8783.jpeg -> Annotation:D:/8th sem/Weed detection system using TinyMl/Project1/Tensorflow/workspace/images/images/crop\\agri_0_8783.xml\n",
      "Image:D:\\8th sem\\Weed detection system using TinyMl\\Project1\\Tensorflow\\workspace\\images\\images\\crop\\agri_0_8788.jpeg -> Annotation:D:/8th sem/Weed detection system using TinyMl/Project1/Tensorflow/workspace/images/images/crop\\agri_0_8788.xml\n",
      "Image:D:\\8th sem\\Weed detection system using TinyMl\\Project1\\Tensorflow\\workspace\\images\\images\\crop\\agri_0_8794.jpeg -> Annotation:D:/8th sem/Weed detection system using TinyMl/Project1/Tensorflow/workspace/images/images/crop\\agri_0_8794.xml\n",
      "Image:D:\\8th sem\\Weed detection system using TinyMl\\Project1\\Tensorflow\\workspace\\images\\images\\crop\\agri_0_8803.jpeg -> Annotation:D:/8th sem/Weed detection system using TinyMl/Project1/Tensorflow/workspace/images/images/crop\\agri_0_8803.xml\n",
      "Image:D:\\8th sem\\Weed detection system using TinyMl\\Project1\\Tensorflow\\workspace\\images\\images\\crop\\agri_0_8811.jpeg -> Annotation:D:/8th sem/Weed detection system using TinyMl/Project1/Tensorflow/workspace/images/images/crop\\agri_0_8811.xml\n",
      "Image:D:\\8th sem\\Weed detection system using TinyMl\\Project1\\Tensorflow\\workspace\\images\\images\\crop\\agri_0_8815.jpeg -> Annotation:D:/8th sem/Weed detection system using TinyMl/Project1/Tensorflow/workspace/images/images/crop\\agri_0_8815.xml\n",
      "Image:D:\\8th sem\\Weed detection system using TinyMl\\Project1\\Tensorflow\\workspace\\images\\images\\crop\\agri_0_8863.jpeg -> Annotation:D:/8th sem/Weed detection system using TinyMl/Project1/Tensorflow/workspace/images/images/crop\\agri_0_8863.xml\n",
      "Image:D:\\8th sem\\Weed detection system using TinyMl\\Project1\\Tensorflow\\workspace\\images\\images\\crop\\agri_0_8872.jpeg -> Annotation:D:/8th sem/Weed detection system using TinyMl/Project1/Tensorflow/workspace/images/images/crop\\agri_0_8872.xml\n",
      "Image:D:\\8th sem\\Weed detection system using TinyMl\\Project1\\Tensorflow\\workspace\\images\\images\\crop\\agri_0_8881.jpeg -> Annotation:D:/8th sem/Weed detection system using TinyMl/Project1/Tensorflow/workspace/images/images/crop\\agri_0_8881.xml\n",
      "Image:D:\\8th sem\\Weed detection system using TinyMl\\Project1\\Tensorflow\\workspace\\images\\images\\crop\\agri_0_8893.jpeg -> Annotation:D:/8th sem/Weed detection system using TinyMl/Project1/Tensorflow/workspace/images/images/crop\\agri_0_8893.xml\n",
      "Image:D:\\8th sem\\Weed detection system using TinyMl\\Project1\\Tensorflow\\workspace\\images\\images\\crop\\agri_0_8914.jpeg -> Annotation:D:/8th sem/Weed detection system using TinyMl/Project1/Tensorflow/workspace/images/images/crop\\agri_0_8914.xml\n",
      "Image:D:\\8th sem\\Weed detection system using TinyMl\\Project1\\Tensorflow\\workspace\\images\\images\\crop\\agri_0_8935.jpeg -> Annotation:D:/8th sem/Weed detection system using TinyMl/Project1/Tensorflow/workspace/images/images/crop\\agri_0_8935.xml\n",
      "Image:D:\\8th sem\\Weed detection system using TinyMl\\Project1\\Tensorflow\\workspace\\images\\images\\crop\\agri_0_8935.jpeg -> Annotation:D:/8th sem/Weed detection system using TinyMl/Project1/Tensorflow/workspace/images/images/crop\\agri_0_8935.xml\n",
      "Image:D:\\8th sem\\Weed detection system using TinyMl\\Project1\\Tensorflow\\workspace\\images\\images\\crop\\agri_0_8935.jpeg -> Annotation:D:/8th sem/Weed detection system using TinyMl/Project1/Tensorflow/workspace/images/images/crop\\agri_0_8935.xml\n",
      "Image:D:\\8th sem\\Weed detection system using TinyMl\\Project1\\Tensorflow\\workspace\\images\\images\\crop\\agri_0_8956.jpeg -> Annotation:D:/8th sem/Weed detection system using TinyMl/Project1/Tensorflow/workspace/images/images/crop\\agri_0_8956.xml\n",
      "Image:D:\\8th sem\\Weed detection system using TinyMl\\Project1\\Tensorflow\\workspace\\images\\images\\crop\\agri_0_8959.jpeg -> Annotation:D:/8th sem/Weed detection system using TinyMl/Project1/Tensorflow/workspace/images/images/crop\\agri_0_8959.xml\n",
      "Image:D:\\8th sem\\Weed detection system using TinyMl\\Project1\\Tensorflow\\workspace\\images\\images\\crop\\agri_0_8980.jpeg -> Annotation:D:/8th sem/Weed detection system using TinyMl/Project1/Tensorflow/workspace/images/images/crop\\agri_0_8980.xml\n",
      "Image:D:\\8th sem\\Weed detection system using TinyMl\\Project1\\Tensorflow\\workspace\\images\\images\\crop\\agri_0_8980.jpeg -> Annotation:D:/8th sem/Weed detection system using TinyMl/Project1/Tensorflow/workspace/images/images/crop\\agri_0_8980.xml\n",
      "Image:D:\\8th sem\\Weed detection system using TinyMl\\Project1\\Tensorflow\\workspace\\images\\images\\crop\\agri_0_8991.jpeg -> Annotation:D:/8th sem/Weed detection system using TinyMl/Project1/Tensorflow/workspace/images/images/crop\\agri_0_8991.xml\n",
      "Image:D:\\8th sem\\Weed detection system using TinyMl\\Project1\\Tensorflow\\workspace\\images\\images\\crop\\agri_0_9000.jpeg -> Annotation:D:/8th sem/Weed detection system using TinyMl/Project1/Tensorflow/workspace/images/images/crop\\agri_0_9000.xml\n",
      "Image:D:\\8th sem\\Weed detection system using TinyMl\\Project1\\Tensorflow\\workspace\\images\\images\\crop\\agri_0_9030.jpeg -> Annotation:D:/8th sem/Weed detection system using TinyMl/Project1/Tensorflow/workspace/images/images/crop\\agri_0_9030.xml\n",
      "Image:D:\\8th sem\\Weed detection system using TinyMl\\Project1\\Tensorflow\\workspace\\images\\images\\crop\\agri_0_9032.jpeg -> Annotation:D:/8th sem/Weed detection system using TinyMl/Project1/Tensorflow/workspace/images/images/crop\\agri_0_9032.xml\n",
      "Image:D:\\8th sem\\Weed detection system using TinyMl\\Project1\\Tensorflow\\workspace\\images\\images\\crop\\agri_0_9044.jpeg -> Annotation:D:/8th sem/Weed detection system using TinyMl/Project1/Tensorflow/workspace/images/images/crop\\agri_0_9044.xml\n",
      "Image:D:\\8th sem\\Weed detection system using TinyMl\\Project1\\Tensorflow\\workspace\\images\\images\\crop\\agri_0_9047.jpeg -> Annotation:D:/8th sem/Weed detection system using TinyMl/Project1/Tensorflow/workspace/images/images/crop\\agri_0_9047.xml\n",
      "Image:D:\\8th sem\\Weed detection system using TinyMl\\Project1\\Tensorflow\\workspace\\images\\images\\crop\\agri_0_9109.jpeg -> Annotation:D:/8th sem/Weed detection system using TinyMl/Project1/Tensorflow/workspace/images/images/crop\\agri_0_9109.xml\n",
      "Image:D:\\8th sem\\Weed detection system using TinyMl\\Project1\\Tensorflow\\workspace\\images\\images\\crop\\agri_0_9126.jpeg -> Annotation:D:/8th sem/Weed detection system using TinyMl/Project1/Tensorflow/workspace/images/images/crop\\agri_0_9126.xml\n",
      "Cancel creation.\n",
      "Image:D:\\8th sem\\Weed detection system using TinyMl\\Project1\\Tensorflow\\workspace\\images\\images\\crop\\agri_0_9127.jpeg -> Annotation:D:/8th sem/Weed detection system using TinyMl/Project1/Tensorflow/workspace/images/images/crop\\agri_0_9127.xml\n",
      "Image:D:\\8th sem\\Weed detection system using TinyMl\\Project1\\Tensorflow\\workspace\\images\\images\\crop\\agri_0_9127.jpeg -> Annotation:D:/8th sem/Weed detection system using TinyMl/Project1/Tensorflow/workspace/images/images/crop\\agri_0_9127.xml\n",
      "Image:D:\\8th sem\\Weed detection system using TinyMl\\Project1\\Tensorflow\\workspace\\images\\images\\crop\\agri_0_9132.jpeg -> Annotation:D:/8th sem/Weed detection system using TinyMl/Project1/Tensorflow/workspace/images/images/crop\\agri_0_9132.xml\n",
      "Image:D:\\8th sem\\Weed detection system using TinyMl\\Project1\\Tensorflow\\workspace\\images\\images\\crop\\agri_0_9144.jpeg -> Annotation:D:/8th sem/Weed detection system using TinyMl/Project1/Tensorflow/workspace/images/images/crop\\agri_0_9144.xml\n",
      "Image:D:\\8th sem\\Weed detection system using TinyMl\\Project1\\Tensorflow\\workspace\\images\\images\\crop\\agri_0_9145.jpeg -> Annotation:D:/8th sem/Weed detection system using TinyMl/Project1/Tensorflow/workspace/images/images/crop\\agri_0_9145.xml\n",
      "Cancel creation.\n",
      "Image:D:\\8th sem\\Weed detection system using TinyMl\\Project1\\Tensorflow\\workspace\\images\\images\\crop\\agri_0_9145.jpeg -> Annotation:D:/8th sem/Weed detection system using TinyMl/Project1/Tensorflow/workspace/images/images/crop\\agri_0_9145.xml\n",
      "Image:D:\\8th sem\\Weed detection system using TinyMl\\Project1\\Tensorflow\\workspace\\images\\images\\crop\\agri_0_9145.jpeg -> Annotation:D:/8th sem/Weed detection system using TinyMl/Project1/Tensorflow/workspace/images/images/crop\\agri_0_9145.xml\n",
      "Image:D:\\8th sem\\Weed detection system using TinyMl\\Project1\\Tensorflow\\workspace\\images\\images\\crop\\agri_0_9152.jpeg -> Annotation:D:/8th sem/Weed detection system using TinyMl/Project1/Tensorflow/workspace/images/images/crop\\agri_0_9152.xml\n",
      "Cancel creation.\n",
      "Image:D:\\8th sem\\Weed detection system using TinyMl\\Project1\\Tensorflow\\workspace\\images\\images\\crop\\agri_0_9172.jpeg -> Annotation:D:/8th sem/Weed detection system using TinyMl/Project1/Tensorflow/workspace/images/images/crop\\agri_0_9172.xml\n",
      "Image:D:\\8th sem\\Weed detection system using TinyMl\\Project1\\Tensorflow\\workspace\\images\\images\\crop\\agri_0_9176.jpeg -> Annotation:D:/8th sem/Weed detection system using TinyMl/Project1/Tensorflow/workspace/images/images/crop\\agri_0_9176.xml\n",
      "Image:D:\\8th sem\\Weed detection system using TinyMl\\Project1\\Tensorflow\\workspace\\images\\images\\crop\\agri_0_9198.jpeg -> Annotation:D:/8th sem/Weed detection system using TinyMl/Project1/Tensorflow/workspace/images/images/crop\\agri_0_9198.xml\n",
      "Image:D:\\8th sem\\Weed detection system using TinyMl\\Project1\\Tensorflow\\workspace\\images\\images\\crop\\agri_0_9207.jpeg -> Annotation:D:/8th sem/Weed detection system using TinyMl/Project1/Tensorflow/workspace/images/images/crop\\agri_0_9207.xml\n",
      "Image:D:\\8th sem\\Weed detection system using TinyMl\\Project1\\Tensorflow\\workspace\\images\\images\\crop\\agri_0_9220.jpeg -> Annotation:D:/8th sem/Weed detection system using TinyMl/Project1/Tensorflow/workspace/images/images/crop\\agri_0_9220.xml\n",
      "Image:D:\\8th sem\\Weed detection system using TinyMl\\Project1\\Tensorflow\\workspace\\images\\images\\crop\\agri_0_9226.jpeg -> Annotation:D:/8th sem/Weed detection system using TinyMl/Project1/Tensorflow/workspace/images/images/crop\\agri_0_9226.xml\n",
      "Image:D:\\8th sem\\Weed detection system using TinyMl\\Project1\\Tensorflow\\workspace\\images\\images\\crop\\agri_0_9253.jpeg -> Annotation:D:/8th sem/Weed detection system using TinyMl/Project1/Tensorflow/workspace/images/images/crop\\agri_0_9253.xml\n",
      "Image:D:\\8th sem\\Weed detection system using TinyMl\\Project1\\Tensorflow\\workspace\\images\\images\\crop\\agri_0_9284.jpeg -> Annotation:D:/8th sem/Weed detection system using TinyMl/Project1/Tensorflow/workspace/images/images/crop\\agri_0_9284.xml\n",
      "Image:D:\\8th sem\\Weed detection system using TinyMl\\Project1\\Tensorflow\\workspace\\images\\images\\crop\\agri_0_9294.jpeg -> Annotation:D:/8th sem/Weed detection system using TinyMl/Project1/Tensorflow/workspace/images/images/crop\\agri_0_9294.xml\n",
      "Image:D:\\8th sem\\Weed detection system using TinyMl\\Project1\\Tensorflow\\workspace\\images\\images\\crop\\agri_0_9297.jpeg -> Annotation:D:/8th sem/Weed detection system using TinyMl/Project1/Tensorflow/workspace/images/images/crop\\agri_0_9297.xml\n",
      "Image:D:\\8th sem\\Weed detection system using TinyMl\\Project1\\Tensorflow\\workspace\\images\\images\\crop\\agri_0_9299.jpeg -> Annotation:D:/8th sem/Weed detection system using TinyMl/Project1/Tensorflow/workspace/images/images/crop\\agri_0_9299.xml\n",
      "Image:D:\\8th sem\\Weed detection system using TinyMl\\Project1\\Tensorflow\\workspace\\images\\images\\crop\\agri_0_9312.jpeg -> Annotation:D:/8th sem/Weed detection system using TinyMl/Project1/Tensorflow/workspace/images/images/crop\\agri_0_9312.xml\n",
      "Image:D:\\8th sem\\Weed detection system using TinyMl\\Project1\\Tensorflow\\workspace\\images\\images\\crop\\agri_0_9367.jpeg -> Annotation:D:/8th sem/Weed detection system using TinyMl/Project1/Tensorflow/workspace/images/images/crop\\agri_0_9367.xml\n",
      "Image:D:\\8th sem\\Weed detection system using TinyMl\\Project1\\Tensorflow\\workspace\\images\\images\\crop\\agri_0_9381.jpeg -> Annotation:D:/8th sem/Weed detection system using TinyMl/Project1/Tensorflow/workspace/images/images/crop\\agri_0_9381.xml\n",
      "Image:D:\\8th sem\\Weed detection system using TinyMl\\Project1\\Tensorflow\\workspace\\images\\images\\crop\\agri_0_9397.jpeg -> Annotation:D:/8th sem/Weed detection system using TinyMl/Project1/Tensorflow/workspace/images/images/crop\\agri_0_9397.xml\n",
      "Image:D:\\8th sem\\Weed detection system using TinyMl\\Project1\\Tensorflow\\workspace\\images\\images\\crop\\agri_0_9398.jpeg -> Annotation:D:/8th sem/Weed detection system using TinyMl/Project1/Tensorflow/workspace/images/images/crop\\agri_0_9398.xml\n",
      "Image:D:\\8th sem\\Weed detection system using TinyMl\\Project1\\Tensorflow\\workspace\\images\\images\\crop\\agri_0_9404.jpeg -> Annotation:D:/8th sem/Weed detection system using TinyMl/Project1/Tensorflow/workspace/images/images/crop\\agri_0_9404.xml\n",
      "Image:D:\\8th sem\\Weed detection system using TinyMl\\Project1\\Tensorflow\\workspace\\images\\images\\crop\\agri_0_9404.jpeg -> Annotation:D:/8th sem/Weed detection system using TinyMl/Project1/Tensorflow/workspace/images/images/crop\\agri_0_9404.xml\n",
      "Image:D:\\8th sem\\Weed detection system using TinyMl\\Project1\\Tensorflow\\workspace\\images\\images\\crop\\agri_0_9424.jpeg -> Annotation:D:/8th sem/Weed detection system using TinyMl/Project1/Tensorflow/workspace/images/images/crop\\agri_0_9424.xml\n",
      "Image:D:\\8th sem\\Weed detection system using TinyMl\\Project1\\Tensorflow\\workspace\\images\\images\\crop\\agri_0_9430.jpeg -> Annotation:D:/8th sem/Weed detection system using TinyMl/Project1/Tensorflow/workspace/images/images/crop\\agri_0_9430.xml\n",
      "Image:D:\\8th sem\\Weed detection system using TinyMl\\Project1\\Tensorflow\\workspace\\images\\images\\crop\\agri_0_9451.jpeg -> Annotation:D:/8th sem/Weed detection system using TinyMl/Project1/Tensorflow/workspace/images/images/crop\\agri_0_9451.xml\n",
      "Image:D:\\8th sem\\Weed detection system using TinyMl\\Project1\\Tensorflow\\workspace\\images\\images\\crop\\agri_0_9474.jpeg -> Annotation:D:/8th sem/Weed detection system using TinyMl/Project1/Tensorflow/workspace/images/images/crop\\agri_0_9474.xml\n",
      "Image:D:\\8th sem\\Weed detection system using TinyMl\\Project1\\Tensorflow\\workspace\\images\\images\\crop\\agri_0_9486.jpeg -> Annotation:D:/8th sem/Weed detection system using TinyMl/Project1/Tensorflow/workspace/images/images/crop\\agri_0_9486.xml\n",
      "Image:D:\\8th sem\\Weed detection system using TinyMl\\Project1\\Tensorflow\\workspace\\images\\images\\crop\\agri_0_9488.jpeg -> Annotation:D:/8th sem/Weed detection system using TinyMl/Project1/Tensorflow/workspace/images/images/crop\\agri_0_9488.xml\n",
      "Image:D:\\8th sem\\Weed detection system using TinyMl\\Project1\\Tensorflow\\workspace\\images\\images\\crop\\agri_0_9489.jpeg -> Annotation:D:/8th sem/Weed detection system using TinyMl/Project1/Tensorflow/workspace/images/images/crop\\agri_0_9489.xml\n",
      "Image:D:\\8th sem\\Weed detection system using TinyMl\\Project1\\Tensorflow\\workspace\\images\\images\\crop\\agri_0_9492.jpeg -> Annotation:D:/8th sem/Weed detection system using TinyMl/Project1/Tensorflow/workspace/images/images/crop\\agri_0_9492.xml\n",
      "Image:D:\\8th sem\\Weed detection system using TinyMl\\Project1\\Tensorflow\\workspace\\images\\images\\crop\\agri_0_9498.jpeg -> Annotation:D:/8th sem/Weed detection system using TinyMl/Project1/Tensorflow/workspace/images/images/crop\\agri_0_9498.xml\n",
      "Image:D:\\8th sem\\Weed detection system using TinyMl\\Project1\\Tensorflow\\workspace\\images\\images\\crop\\agri_0_9500.jpeg -> Annotation:D:/8th sem/Weed detection system using TinyMl/Project1/Tensorflow/workspace/images/images/crop\\agri_0_9500.xml\n",
      "Image:D:\\8th sem\\Weed detection system using TinyMl\\Project1\\Tensorflow\\workspace\\images\\images\\crop\\agri_0_9502.jpeg -> Annotation:D:/8th sem/Weed detection system using TinyMl/Project1/Tensorflow/workspace/images/images/crop\\agri_0_9502.xml\n",
      "Image:D:\\8th sem\\Weed detection system using TinyMl\\Project1\\Tensorflow\\workspace\\images\\images\\crop\\agri_0_9523.jpeg -> Annotation:D:/8th sem/Weed detection system using TinyMl/Project1/Tensorflow/workspace/images/images/crop\\agri_0_9523.xml\n",
      "Cancel creation.\n",
      "Image:D:\\8th sem\\Weed detection system using TinyMl\\Project1\\Tensorflow\\workspace\\images\\images\\crop\\agri_0_9562.jpeg -> Annotation:D:/8th sem/Weed detection system using TinyMl/Project1/Tensorflow/workspace/images/images/crop\\agri_0_9562.xml\n",
      "Image:D:\\8th sem\\Weed detection system using TinyMl\\Project1\\Tensorflow\\workspace\\images\\images\\crop\\agri_0_9563.jpeg -> Annotation:D:/8th sem/Weed detection system using TinyMl/Project1/Tensorflow/workspace/images/images/crop\\agri_0_9563.xml\n",
      "Image:D:\\8th sem\\Weed detection system using TinyMl\\Project1\\Tensorflow\\workspace\\images\\images\\crop\\agri_0_9584.jpeg -> Annotation:D:/8th sem/Weed detection system using TinyMl/Project1/Tensorflow/workspace/images/images/crop\\agri_0_9584.xml\n",
      "Cancel creation.\n",
      "Image:D:\\8th sem\\Weed detection system using TinyMl\\Project1\\Tensorflow\\workspace\\images\\images\\crop\\agri_0_9601.jpeg -> Annotation:D:/8th sem/Weed detection system using TinyMl/Project1/Tensorflow/workspace/images/images/crop\\agri_0_9601.xml\n",
      "Image:D:\\8th sem\\Weed detection system using TinyMl\\Project1\\Tensorflow\\workspace\\images\\images\\crop\\agri_0_9608.jpeg -> Annotation:D:/8th sem/Weed detection system using TinyMl/Project1/Tensorflow/workspace/images/images/crop\\agri_0_9608.xml\n",
      "Image:D:\\8th sem\\Weed detection system using TinyMl\\Project1\\Tensorflow\\workspace\\images\\images\\crop\\agri_0_9617.jpeg -> Annotation:D:/8th sem/Weed detection system using TinyMl/Project1/Tensorflow/workspace/images/images/crop\\agri_0_9617.xml\n",
      "Image:D:\\8th sem\\Weed detection system using TinyMl\\Project1\\Tensorflow\\workspace\\images\\images\\crop\\agri_0_9618.jpeg -> Annotation:D:/8th sem/Weed detection system using TinyMl/Project1/Tensorflow/workspace/images/images/crop\\agri_0_9618.xml\n",
      "Image:D:\\8th sem\\Weed detection system using TinyMl\\Project1\\Tensorflow\\workspace\\images\\images\\crop\\agri_0_9617.jpeg -> Annotation:D:/8th sem/Weed detection system using TinyMl/Project1/Tensorflow/workspace/images/images/crop\\agri_0_9617.xml\n",
      "Image:D:\\8th sem\\Weed detection system using TinyMl\\Project1\\Tensorflow\\workspace\\images\\images\\crop\\agri_0_9660.jpeg -> Annotation:D:/8th sem/Weed detection system using TinyMl/Project1/Tensorflow/workspace/images/images/crop\\agri_0_9660.xml\n",
      "Image:D:\\8th sem\\Weed detection system using TinyMl\\Project1\\Tensorflow\\workspace\\images\\images\\crop\\agri_0_9698.jpeg -> Annotation:D:/8th sem/Weed detection system using TinyMl/Project1/Tensorflow/workspace/images/images/crop\\agri_0_9698.xml\n",
      "Image:D:\\8th sem\\Weed detection system using TinyMl\\Project1\\Tensorflow\\workspace\\images\\images\\crop\\agri_0_9701.jpeg -> Annotation:D:/8th sem/Weed detection system using TinyMl/Project1/Tensorflow/workspace/images/images/crop\\agri_0_9701.xml\n",
      "Image:D:\\8th sem\\Weed detection system using TinyMl\\Project1\\Tensorflow\\workspace\\images\\images\\crop\\agri_0_9707.jpeg -> Annotation:D:/8th sem/Weed detection system using TinyMl/Project1/Tensorflow/workspace/images/images/crop\\agri_0_9707.xml\n",
      "Image:D:\\8th sem\\Weed detection system using TinyMl\\Project1\\Tensorflow\\workspace\\images\\images\\crop\\agri_0_9712.jpeg -> Annotation:D:/8th sem/Weed detection system using TinyMl/Project1/Tensorflow/workspace/images/images/crop\\agri_0_9712.xml\n",
      "Image:D:\\8th sem\\Weed detection system using TinyMl\\Project1\\Tensorflow\\workspace\\images\\images\\crop\\agri_0_9714.jpeg -> Annotation:D:/8th sem/Weed detection system using TinyMl/Project1/Tensorflow/workspace/images/images/crop\\agri_0_9714.xml\n",
      "Image:D:\\8th sem\\Weed detection system using TinyMl\\Project1\\Tensorflow\\workspace\\images\\images\\crop\\agri_0_9740.jpeg -> Annotation:D:/8th sem/Weed detection system using TinyMl/Project1/Tensorflow/workspace/images/images/crop\\agri_0_9740.xml\n",
      "Image:D:\\8th sem\\Weed detection system using TinyMl\\Project1\\Tensorflow\\workspace\\images\\images\\crop\\agri_0_9770.jpeg -> Annotation:D:/8th sem/Weed detection system using TinyMl/Project1/Tensorflow/workspace/images/images/crop\\agri_0_9770.xml\n",
      "Image:D:\\8th sem\\Weed detection system using TinyMl\\Project1\\Tensorflow\\workspace\\images\\images\\crop\\agri_0_9776.jpeg -> Annotation:D:/8th sem/Weed detection system using TinyMl/Project1/Tensorflow/workspace/images/images/crop\\agri_0_9776.xml\n",
      "Image:D:\\8th sem\\Weed detection system using TinyMl\\Project1\\Tensorflow\\workspace\\images\\images\\crop\\agri_0_9796.jpeg -> Annotation:D:/8th sem/Weed detection system using TinyMl/Project1/Tensorflow/workspace/images/images/crop\\agri_0_9796.xml\n",
      "Image:D:\\8th sem\\Weed detection system using TinyMl\\Project1\\Tensorflow\\workspace\\images\\images\\crop\\agri_0_9804.jpeg -> Annotation:D:/8th sem/Weed detection system using TinyMl/Project1/Tensorflow/workspace/images/images/crop\\agri_0_9804.xml\n",
      "Image:D:\\8th sem\\Weed detection system using TinyMl\\Project1\\Tensorflow\\workspace\\images\\images\\crop\\agri_0_9831.jpeg -> Annotation:D:/8th sem/Weed detection system using TinyMl/Project1/Tensorflow/workspace/images/images/crop\\agri_0_9831.xml\n",
      "Image:D:\\8th sem\\Weed detection system using TinyMl\\Project1\\Tensorflow\\workspace\\images\\images\\crop\\agri_0_9843.jpeg -> Annotation:D:/8th sem/Weed detection system using TinyMl/Project1/Tensorflow/workspace/images/images/crop\\agri_0_9843.xml\n",
      "Image:D:\\8th sem\\Weed detection system using TinyMl\\Project1\\Tensorflow\\workspace\\images\\images\\crop\\agri_0_9845.jpeg -> Annotation:D:/8th sem/Weed detection system using TinyMl/Project1/Tensorflow/workspace/images/images/crop\\agri_0_9845.xml\n",
      "Image:D:\\8th sem\\Weed detection system using TinyMl\\Project1\\Tensorflow\\workspace\\images\\images\\crop\\agri_0_9857.jpeg -> Annotation:D:/8th sem/Weed detection system using TinyMl/Project1/Tensorflow/workspace/images/images/crop\\agri_0_9857.xml\n",
      "Image:D:\\8th sem\\Weed detection system using TinyMl\\Project1\\Tensorflow\\workspace\\images\\images\\crop\\agri_0_9871.jpeg -> Annotation:D:/8th sem/Weed detection system using TinyMl/Project1/Tensorflow/workspace/images/images/crop\\agri_0_9871.xml\n",
      "Image:D:\\8th sem\\Weed detection system using TinyMl\\Project1\\Tensorflow\\workspace\\images\\images\\crop\\agri_0_9874.jpeg -> Annotation:D:/8th sem/Weed detection system using TinyMl/Project1/Tensorflow/workspace/images/images/crop\\agri_0_9874.xml\n",
      "Image:D:\\8th sem\\Weed detection system using TinyMl\\Project1\\Tensorflow\\workspace\\images\\images\\crop\\agri_0_9888.jpeg -> Annotation:D:/8th sem/Weed detection system using TinyMl/Project1/Tensorflow/workspace/images/images/crop\\agri_0_9888.xml\n",
      "Image:D:\\8th sem\\Weed detection system using TinyMl\\Project1\\Tensorflow\\workspace\\images\\images\\crop\\agri_0_9891.jpeg -> Annotation:D:/8th sem/Weed detection system using TinyMl/Project1/Tensorflow/workspace/images/images/crop\\agri_0_9891.xml\n",
      "Image:D:\\8th sem\\Weed detection system using TinyMl\\Project1\\Tensorflow\\workspace\\images\\images\\crop\\agri_0_9899.jpeg -> Annotation:D:/8th sem/Weed detection system using TinyMl/Project1/Tensorflow/workspace/images/images/crop\\agri_0_9899.xml\n",
      "Image:D:\\8th sem\\Weed detection system using TinyMl\\Project1\\Tensorflow\\workspace\\images\\images\\crop\\agri_0_9908.jpeg -> Annotation:D:/8th sem/Weed detection system using TinyMl/Project1/Tensorflow/workspace/images/images/crop\\agri_0_9908.xml\n",
      "Image:D:\\8th sem\\Weed detection system using TinyMl\\Project1\\Tensorflow\\workspace\\images\\images\\crop\\agri_0_9933.jpeg -> Annotation:D:/8th sem/Weed detection system using TinyMl/Project1/Tensorflow/workspace/images/images/crop\\agri_0_9933.xml\n",
      "Image:D:\\8th sem\\Weed detection system using TinyMl\\Project1\\Tensorflow\\workspace\\images\\images\\weed\\agri_0_8165.jpeg -> Annotation:D:/8th sem/Weed detection system using TinyMl/Project1/Tensorflow/workspace/images/images/weed\\agri_0_8165.xml\n",
      "Image:D:\\8th sem\\Weed detection system using TinyMl\\Project1\\Tensorflow\\workspace\\images\\images\\weed\\agri_0_8168.jpeg -> Annotation:D:/8th sem/Weed detection system using TinyMl/Project1/Tensorflow/workspace/images/images/weed\\agri_0_8168.xml\n",
      "Image:D:\\8th sem\\Weed detection system using TinyMl\\Project1\\Tensorflow\\workspace\\images\\images\\weed\\agri_0_8252.jpeg -> Annotation:D:/8th sem/Weed detection system using TinyMl/Project1/Tensorflow/workspace/images/images/weed\\agri_0_8252.xml\n",
      "Image:D:\\8th sem\\Weed detection system using TinyMl\\Project1\\Tensorflow\\workspace\\images\\images\\weed\\agri_0_8262.jpeg -> Annotation:D:/8th sem/Weed detection system using TinyMl/Project1/Tensorflow/workspace/images/images/weed\\agri_0_8262.xml\n",
      "Image:D:\\8th sem\\Weed detection system using TinyMl\\Project1\\Tensorflow\\workspace\\images\\images\\weed\\agri_0_8267.jpeg -> Annotation:D:/8th sem/Weed detection system using TinyMl/Project1/Tensorflow/workspace/images/images/weed\\agri_0_8267.xml\n",
      "Image:D:\\8th sem\\Weed detection system using TinyMl\\Project1\\Tensorflow\\workspace\\images\\images\\weed\\agri_0_8269.jpeg -> Annotation:D:/8th sem/Weed detection system using TinyMl/Project1/Tensorflow/workspace/images/images/weed\\agri_0_8269.xml\n",
      "Image:D:\\8th sem\\Weed detection system using TinyMl\\Project1\\Tensorflow\\workspace\\images\\images\\weed\\agri_0_8297.jpeg -> Annotation:D:/8th sem/Weed detection system using TinyMl/Project1/Tensorflow/workspace/images/images/weed\\agri_0_8297.xml\n",
      "Image:D:\\8th sem\\Weed detection system using TinyMl\\Project1\\Tensorflow\\workspace\\images\\images\\weed\\agri_0_8322.jpeg -> Annotation:D:/8th sem/Weed detection system using TinyMl/Project1/Tensorflow/workspace/images/images/weed\\agri_0_8322.xml\n",
      "Image:D:\\8th sem\\Weed detection system using TinyMl\\Project1\\Tensorflow\\workspace\\images\\images\\weed\\agri_0_8330.jpeg -> Annotation:D:/8th sem/Weed detection system using TinyMl/Project1/Tensorflow/workspace/images/images/weed\\agri_0_8330.xml\n",
      "Image:D:\\8th sem\\Weed detection system using TinyMl\\Project1\\Tensorflow\\workspace\\images\\images\\weed\\agri_0_8393.jpeg -> Annotation:D:/8th sem/Weed detection system using TinyMl/Project1/Tensorflow/workspace/images/images/weed\\agri_0_8393.xml\n",
      "Image:D:\\8th sem\\Weed detection system using TinyMl\\Project1\\Tensorflow\\workspace\\images\\images\\weed\\agri_0_8409.jpeg -> Annotation:D:/8th sem/Weed detection system using TinyMl/Project1/Tensorflow/workspace/images/images/weed\\agri_0_8409.xml\n",
      "Image:D:\\8th sem\\Weed detection system using TinyMl\\Project1\\Tensorflow\\workspace\\images\\images\\weed\\agri_0_8413.jpeg -> Annotation:D:/8th sem/Weed detection system using TinyMl/Project1/Tensorflow/workspace/images/images/weed\\agri_0_8413.xml\n",
      "Image:D:\\8th sem\\Weed detection system using TinyMl\\Project1\\Tensorflow\\workspace\\images\\images\\weed\\agri_0_8417.jpeg -> Annotation:D:/8th sem/Weed detection system using TinyMl/Project1/Tensorflow/workspace/images/images/weed\\agri_0_8417.xml\n",
      "Image:D:\\8th sem\\Weed detection system using TinyMl\\Project1\\Tensorflow\\workspace\\images\\images\\weed\\agri_0_8445.jpeg -> Annotation:D:/8th sem/Weed detection system using TinyMl/Project1/Tensorflow/workspace/images/images/weed\\agri_0_8445.xml\n",
      "Image:D:\\8th sem\\Weed detection system using TinyMl\\Project1\\Tensorflow\\workspace\\images\\images\\weed\\agri_0_8490.jpeg -> Annotation:D:/8th sem/Weed detection system using TinyMl/Project1/Tensorflow/workspace/images/images/weed\\agri_0_8490.xml\n",
      "Image:D:\\8th sem\\Weed detection system using TinyMl\\Project1\\Tensorflow\\workspace\\images\\images\\weed\\agri_0_8496.jpeg -> Annotation:D:/8th sem/Weed detection system using TinyMl/Project1/Tensorflow/workspace/images/images/weed\\agri_0_8496.xml\n",
      "Image:D:\\8th sem\\Weed detection system using TinyMl\\Project1\\Tensorflow\\workspace\\images\\images\\weed\\agri_0_8516.jpeg -> Annotation:D:/8th sem/Weed detection system using TinyMl/Project1/Tensorflow/workspace/images/images/weed\\agri_0_8516.xml\n",
      "Image:D:\\8th sem\\Weed detection system using TinyMl\\Project1\\Tensorflow\\workspace\\images\\images\\weed\\agri_0_8518.jpeg -> Annotation:D:/8th sem/Weed detection system using TinyMl/Project1/Tensorflow/workspace/images/images/weed\\agri_0_8518.xml\n",
      "Image:D:\\8th sem\\Weed detection system using TinyMl\\Project1\\Tensorflow\\workspace\\images\\images\\weed\\agri_0_8546.jpeg -> Annotation:D:/8th sem/Weed detection system using TinyMl/Project1/Tensorflow/workspace/images/images/weed\\agri_0_8546.xml\n",
      "Image:D:\\8th sem\\Weed detection system using TinyMl\\Project1\\Tensorflow\\workspace\\images\\images\\weed\\agri_0_8583.jpeg -> Annotation:D:/8th sem/Weed detection system using TinyMl/Project1/Tensorflow/workspace/images/images/weed\\agri_0_8583.xml\n",
      "Image:D:\\8th sem\\Weed detection system using TinyMl\\Project1\\Tensorflow\\workspace\\images\\images\\weed\\agri_0_8585.jpeg -> Annotation:D:/8th sem/Weed detection system using TinyMl/Project1/Tensorflow/workspace/images/images/weed\\agri_0_8585.xml\n",
      "Image:D:\\8th sem\\Weed detection system using TinyMl\\Project1\\Tensorflow\\workspace\\images\\images\\weed\\agri_0_8595.jpeg -> Annotation:D:/8th sem/Weed detection system using TinyMl/Project1/Tensorflow/workspace/images/images/weed\\agri_0_8595.xml\n",
      "Image:D:\\8th sem\\Weed detection system using TinyMl\\Project1\\Tensorflow\\workspace\\images\\images\\weed\\agri_0_8618.jpeg -> Annotation:D:/8th sem/Weed detection system using TinyMl/Project1/Tensorflow/workspace/images/images/weed\\agri_0_8618.xml\n",
      "Image:D:\\8th sem\\Weed detection system using TinyMl\\Project1\\Tensorflow\\workspace\\images\\images\\weed\\agri_0_8620.jpeg -> Annotation:D:/8th sem/Weed detection system using TinyMl/Project1/Tensorflow/workspace/images/images/weed\\agri_0_8620.xml\n",
      "Image:D:\\8th sem\\Weed detection system using TinyMl\\Project1\\Tensorflow\\workspace\\images\\images\\weed\\agri_0_8623.jpeg -> Annotation:D:/8th sem/Weed detection system using TinyMl/Project1/Tensorflow/workspace/images/images/weed\\agri_0_8623.xml\n",
      "Image:D:\\8th sem\\Weed detection system using TinyMl\\Project1\\Tensorflow\\workspace\\images\\images\\weed\\agri_0_8636.jpeg -> Annotation:D:/8th sem/Weed detection system using TinyMl/Project1/Tensorflow/workspace/images/images/weed\\agri_0_8636.xml\n",
      "Image:D:\\8th sem\\Weed detection system using TinyMl\\Project1\\Tensorflow\\workspace\\images\\images\\weed\\agri_0_8642.jpeg -> Annotation:D:/8th sem/Weed detection system using TinyMl/Project1/Tensorflow/workspace/images/images/weed\\agri_0_8642.xml\n",
      "Image:D:\\8th sem\\Weed detection system using TinyMl\\Project1\\Tensorflow\\workspace\\images\\images\\weed\\agri_0_8654.jpeg -> Annotation:D:/8th sem/Weed detection system using TinyMl/Project1/Tensorflow/workspace/images/images/weed\\agri_0_8654.xml\n",
      "Image:D:\\8th sem\\Weed detection system using TinyMl\\Project1\\Tensorflow\\workspace\\images\\images\\weed\\agri_0_8655.jpeg -> Annotation:D:/8th sem/Weed detection system using TinyMl/Project1/Tensorflow/workspace/images/images/weed\\agri_0_8655.xml\n",
      "Image:D:\\8th sem\\Weed detection system using TinyMl\\Project1\\Tensorflow\\workspace\\images\\images\\weed\\agri_0_8671.jpeg -> Annotation:D:/8th sem/Weed detection system using TinyMl/Project1/Tensorflow/workspace/images/images/weed\\agri_0_8671.xml\n",
      "Image:D:\\8th sem\\Weed detection system using TinyMl\\Project1\\Tensorflow\\workspace\\images\\images\\weed\\agri_0_8675.jpeg -> Annotation:D:/8th sem/Weed detection system using TinyMl/Project1/Tensorflow/workspace/images/images/weed\\agri_0_8675.xml\n",
      "Image:D:\\8th sem\\Weed detection system using TinyMl\\Project1\\Tensorflow\\workspace\\images\\images\\weed\\agri_0_8698.jpeg -> Annotation:D:/8th sem/Weed detection system using TinyMl/Project1/Tensorflow/workspace/images/images/weed\\agri_0_8698.xml\n",
      "Image:D:\\8th sem\\Weed detection system using TinyMl\\Project1\\Tensorflow\\workspace\\images\\images\\weed\\agri_0_8698.jpeg -> Annotation:D:/8th sem/Weed detection system using TinyMl/Project1/Tensorflow/workspace/images/images/weed\\agri_0_8698.xml\n",
      "Image:D:\\8th sem\\Weed detection system using TinyMl\\Project1\\Tensorflow\\workspace\\images\\images\\weed\\agri_0_8702.jpeg -> Annotation:D:/8th sem/Weed detection system using TinyMl/Project1/Tensorflow/workspace/images/images/weed\\agri_0_8702.xml\n",
      "Image:D:\\8th sem\\Weed detection system using TinyMl\\Project1\\Tensorflow\\workspace\\images\\images\\weed\\agri_0_8708.jpeg -> Annotation:D:/8th sem/Weed detection system using TinyMl/Project1/Tensorflow/workspace/images/images/weed\\agri_0_8708.xml\n",
      "Image:D:\\8th sem\\Weed detection system using TinyMl\\Project1\\Tensorflow\\workspace\\images\\images\\weed\\agri_0_8733.jpeg -> Annotation:D:/8th sem/Weed detection system using TinyMl/Project1/Tensorflow/workspace/images/images/weed\\agri_0_8733.xml\n",
      "Image:D:\\8th sem\\Weed detection system using TinyMl\\Project1\\Tensorflow\\workspace\\images\\images\\weed\\agri_0_8746.jpeg -> Annotation:D:/8th sem/Weed detection system using TinyMl/Project1/Tensorflow/workspace/images/images/weed\\agri_0_8746.xml\n",
      "Image:D:\\8th sem\\Weed detection system using TinyMl\\Project1\\Tensorflow\\workspace\\images\\images\\weed\\agri_0_8747.jpeg -> Annotation:D:/8th sem/Weed detection system using TinyMl/Project1/Tensorflow/workspace/images/images/weed\\agri_0_8747.xml\n",
      "Image:D:\\8th sem\\Weed detection system using TinyMl\\Project1\\Tensorflow\\workspace\\images\\images\\weed\\agri_0_8797.jpeg -> Annotation:D:/8th sem/Weed detection system using TinyMl/Project1/Tensorflow/workspace/images/images/weed\\agri_0_8797.xml\n",
      "Image:D:\\8th sem\\Weed detection system using TinyMl\\Project1\\Tensorflow\\workspace\\images\\images\\weed\\agri_0_8800.jpeg -> Annotation:D:/8th sem/Weed detection system using TinyMl/Project1/Tensorflow/workspace/images/images/weed\\agri_0_8800.xml\n",
      "Image:D:\\8th sem\\Weed detection system using TinyMl\\Project1\\Tensorflow\\workspace\\images\\images\\weed\\agri_0_8821.jpeg -> Annotation:D:/8th sem/Weed detection system using TinyMl/Project1/Tensorflow/workspace/images/images/weed\\agri_0_8821.xml\n",
      "Image:D:\\8th sem\\Weed detection system using TinyMl\\Project1\\Tensorflow\\workspace\\images\\images\\weed\\agri_0_8830.jpeg -> Annotation:D:/8th sem/Weed detection system using TinyMl/Project1/Tensorflow/workspace/images/images/weed\\agri_0_8830.xml\n",
      "Image:D:\\8th sem\\Weed detection system using TinyMl\\Project1\\Tensorflow\\workspace\\images\\images\\weed\\agri_0_8834.jpeg -> Annotation:D:/8th sem/Weed detection system using TinyMl/Project1/Tensorflow/workspace/images/images/weed\\agri_0_8834.xml\n",
      "Image:D:\\8th sem\\Weed detection system using TinyMl\\Project1\\Tensorflow\\workspace\\images\\images\\weed\\agri_0_8838.jpeg -> Annotation:D:/8th sem/Weed detection system using TinyMl/Project1/Tensorflow/workspace/images/images/weed\\agri_0_8838.xml\n",
      "Image:D:\\8th sem\\Weed detection system using TinyMl\\Project1\\Tensorflow\\workspace\\images\\images\\weed\\agri_0_8842.jpeg -> Annotation:D:/8th sem/Weed detection system using TinyMl/Project1/Tensorflow/workspace/images/images/weed\\agri_0_8842.xml\n",
      "Image:D:\\8th sem\\Weed detection system using TinyMl\\Project1\\Tensorflow\\workspace\\images\\images\\weed\\agri_0_8848.jpeg -> Annotation:D:/8th sem/Weed detection system using TinyMl/Project1/Tensorflow/workspace/images/images/weed\\agri_0_8848.xml\n",
      "Image:D:\\8th sem\\Weed detection system using TinyMl\\Project1\\Tensorflow\\workspace\\images\\images\\weed\\agri_0_8857.jpeg -> Annotation:D:/8th sem/Weed detection system using TinyMl/Project1/Tensorflow/workspace/images/images/weed\\agri_0_8857.xml\n",
      "Image:D:\\8th sem\\Weed detection system using TinyMl\\Project1\\Tensorflow\\workspace\\images\\images\\weed\\agri_0_8866.jpeg -> Annotation:D:/8th sem/Weed detection system using TinyMl/Project1/Tensorflow/workspace/images/images/weed\\agri_0_8866.xml\n",
      "Image:D:\\8th sem\\Weed detection system using TinyMl\\Project1\\Tensorflow\\workspace\\images\\images\\weed\\agri_0_8886.jpeg -> Annotation:D:/8th sem/Weed detection system using TinyMl/Project1/Tensorflow/workspace/images/images/weed\\agri_0_8886.xml\n",
      "Image:D:\\8th sem\\Weed detection system using TinyMl\\Project1\\Tensorflow\\workspace\\images\\images\\weed\\agri_0_8904.jpeg -> Annotation:D:/8th sem/Weed detection system using TinyMl/Project1/Tensorflow/workspace/images/images/weed\\agri_0_8904.xml\n",
      "Image:D:\\8th sem\\Weed detection system using TinyMl\\Project1\\Tensorflow\\workspace\\images\\images\\weed\\agri_0_8905.jpeg -> Annotation:D:/8th sem/Weed detection system using TinyMl/Project1/Tensorflow/workspace/images/images/weed\\agri_0_8905.xml\n",
      "Image:D:\\8th sem\\Weed detection system using TinyMl\\Project1\\Tensorflow\\workspace\\images\\images\\weed\\agri_0_8905.jpeg -> Annotation:D:/8th sem/Weed detection system using TinyMl/Project1/Tensorflow/workspace/images/images/weed\\agri_0_8905.xml\n",
      "Image:D:\\8th sem\\Weed detection system using TinyMl\\Project1\\Tensorflow\\workspace\\images\\images\\weed\\agri_0_8913.jpeg -> Annotation:D:/8th sem/Weed detection system using TinyMl/Project1/Tensorflow/workspace/images/images/weed\\agri_0_8913.xml\n",
      "Image:D:\\8th sem\\Weed detection system using TinyMl\\Project1\\Tensorflow\\workspace\\images\\images\\weed\\agri_0_8926.jpeg -> Annotation:D:/8th sem/Weed detection system using TinyMl/Project1/Tensorflow/workspace/images/images/weed\\agri_0_8926.xml\n",
      "Image:D:\\8th sem\\Weed detection system using TinyMl\\Project1\\Tensorflow\\workspace\\images\\images\\weed\\agri_0_8960.jpeg -> Annotation:D:/8th sem/Weed detection system using TinyMl/Project1/Tensorflow/workspace/images/images/weed\\agri_0_8960.xml\n",
      "Image:D:\\8th sem\\Weed detection system using TinyMl\\Project1\\Tensorflow\\workspace\\images\\images\\weed\\agri_0_8982.jpeg -> Annotation:D:/8th sem/Weed detection system using TinyMl/Project1/Tensorflow/workspace/images/images/weed\\agri_0_8982.xml\n",
      "Image:D:\\8th sem\\Weed detection system using TinyMl\\Project1\\Tensorflow\\workspace\\images\\images\\weed\\agri_0_8995.jpeg -> Annotation:D:/8th sem/Weed detection system using TinyMl/Project1/Tensorflow/workspace/images/images/weed\\agri_0_8995.xml\n",
      "Image:D:\\8th sem\\Weed detection system using TinyMl\\Project1\\Tensorflow\\workspace\\images\\images\\weed\\agri_0_8995.jpeg -> Annotation:D:/8th sem/Weed detection system using TinyMl/Project1/Tensorflow/workspace/images/images/weed\\agri_0_8995.xml\n",
      "Image:D:\\8th sem\\Weed detection system using TinyMl\\Project1\\Tensorflow\\workspace\\images\\images\\weed\\agri_0_9010.jpeg -> Annotation:D:/8th sem/Weed detection system using TinyMl/Project1/Tensorflow/workspace/images/images/weed\\agri_0_9010.xml\n",
      "Image:D:\\8th sem\\Weed detection system using TinyMl\\Project1\\Tensorflow\\workspace\\images\\images\\weed\\agri_0_9043.jpeg -> Annotation:D:/8th sem/Weed detection system using TinyMl/Project1/Tensorflow/workspace/images/images/weed\\agri_0_9043.xml\n",
      "Image:D:\\8th sem\\Weed detection system using TinyMl\\Project1\\Tensorflow\\workspace\\images\\images\\weed\\agri_0_9049.jpeg -> Annotation:D:/8th sem/Weed detection system using TinyMl/Project1/Tensorflow/workspace/images/images/weed\\agri_0_9049.xml\n",
      "Image:D:\\8th sem\\Weed detection system using TinyMl\\Project1\\Tensorflow\\workspace\\images\\images\\weed\\agri_0_9055.jpeg -> Annotation:D:/8th sem/Weed detection system using TinyMl/Project1/Tensorflow/workspace/images/images/weed\\agri_0_9055.xml\n",
      "Image:D:\\8th sem\\Weed detection system using TinyMl\\Project1\\Tensorflow\\workspace\\images\\images\\weed\\agri_0_9062.jpeg -> Annotation:D:/8th sem/Weed detection system using TinyMl/Project1/Tensorflow/workspace/images/images/weed\\agri_0_9062.xml\n",
      "Image:D:\\8th sem\\Weed detection system using TinyMl\\Project1\\Tensorflow\\workspace\\images\\images\\weed\\agri_0_9085.jpeg -> Annotation:D:/8th sem/Weed detection system using TinyMl/Project1/Tensorflow/workspace/images/images/weed\\agri_0_9085.xml\n",
      "Image:D:\\8th sem\\Weed detection system using TinyMl\\Project1\\Tensorflow\\workspace\\images\\images\\weed\\agri_0_9088.jpeg -> Annotation:D:/8th sem/Weed detection system using TinyMl/Project1/Tensorflow/workspace/images/images/weed\\agri_0_9088.xml\n",
      "Image:D:\\8th sem\\Weed detection system using TinyMl\\Project1\\Tensorflow\\workspace\\images\\images\\weed\\agri_0_9095.jpeg -> Annotation:D:/8th sem/Weed detection system using TinyMl/Project1/Tensorflow/workspace/images/images/weed\\agri_0_9095.xml\n",
      "Image:D:\\8th sem\\Weed detection system using TinyMl\\Project1\\Tensorflow\\workspace\\images\\images\\weed\\agri_0_9116.jpeg -> Annotation:D:/8th sem/Weed detection system using TinyMl/Project1/Tensorflow/workspace/images/images/weed\\agri_0_9116.xml\n",
      "Image:D:\\8th sem\\Weed detection system using TinyMl\\Project1\\Tensorflow\\workspace\\images\\images\\weed\\agri_0_9116.jpeg -> Annotation:D:/8th sem/Weed detection system using TinyMl/Project1/Tensorflow/workspace/images/images/weed\\agri_0_9116.xml\n",
      "Image:D:\\8th sem\\Weed detection system using TinyMl\\Project1\\Tensorflow\\workspace\\images\\images\\weed\\agri_0_9116.jpeg -> Annotation:D:/8th sem/Weed detection system using TinyMl/Project1/Tensorflow/workspace/images/images/weed\\agri_0_9116.xml\n",
      "Image:D:\\8th sem\\Weed detection system using TinyMl\\Project1\\Tensorflow\\workspace\\images\\images\\weed\\agri_0_9116.jpeg -> Annotation:D:/8th sem/Weed detection system using TinyMl/Project1/Tensorflow/workspace/images/images/weed\\agri_0_9116.xml\n",
      "Image:D:\\8th sem\\Weed detection system using TinyMl\\Project1\\Tensorflow\\workspace\\images\\images\\weed\\agri_0_9135.jpeg -> Annotation:D:/8th sem/Weed detection system using TinyMl/Project1/Tensorflow/workspace/images/images/weed\\agri_0_9135.xml\n",
      "Image:D:\\8th sem\\Weed detection system using TinyMl\\Project1\\Tensorflow\\workspace\\images\\images\\weed\\agri_0_9143.jpeg -> Annotation:D:/8th sem/Weed detection system using TinyMl/Project1/Tensorflow/workspace/images/images/weed\\agri_0_9143.xml\n",
      "Image:D:\\8th sem\\Weed detection system using TinyMl\\Project1\\Tensorflow\\workspace\\images\\images\\weed\\agri_0_9148.jpeg -> Annotation:D:/8th sem/Weed detection system using TinyMl/Project1/Tensorflow/workspace/images/images/weed\\agri_0_9148.xml\n",
      "Image:D:\\8th sem\\Weed detection system using TinyMl\\Project1\\Tensorflow\\workspace\\images\\images\\weed\\agri_0_9153.jpeg -> Annotation:D:/8th sem/Weed detection system using TinyMl/Project1/Tensorflow/workspace/images/images/weed\\agri_0_9153.xml\n",
      "Image:D:\\8th sem\\Weed detection system using TinyMl\\Project1\\Tensorflow\\workspace\\images\\images\\weed\\agri_0_9161.jpeg -> Annotation:D:/8th sem/Weed detection system using TinyMl/Project1/Tensorflow/workspace/images/images/weed\\agri_0_9161.xml\n",
      "Image:D:\\8th sem\\Weed detection system using TinyMl\\Project1\\Tensorflow\\workspace\\images\\images\\weed\\agri_0_9179.jpeg -> Annotation:D:/8th sem/Weed detection system using TinyMl/Project1/Tensorflow/workspace/images/images/weed\\agri_0_9179.xml\n",
      "Image:D:\\8th sem\\Weed detection system using TinyMl\\Project1\\Tensorflow\\workspace\\images\\images\\weed\\agri_0_9183.jpeg -> Annotation:D:/8th sem/Weed detection system using TinyMl/Project1/Tensorflow/workspace/images/images/weed\\agri_0_9183.xml\n",
      "Image:D:\\8th sem\\Weed detection system using TinyMl\\Project1\\Tensorflow\\workspace\\images\\images\\weed\\agri_0_9206.jpeg -> Annotation:D:/8th sem/Weed detection system using TinyMl/Project1/Tensorflow/workspace/images/images/weed\\agri_0_9206.xml\n",
      "Image:D:\\8th sem\\Weed detection system using TinyMl\\Project1\\Tensorflow\\workspace\\images\\images\\weed\\agri_0_9208.jpeg -> Annotation:D:/8th sem/Weed detection system using TinyMl/Project1/Tensorflow/workspace/images/images/weed\\agri_0_9208.xml\n",
      "Image:D:\\8th sem\\Weed detection system using TinyMl\\Project1\\Tensorflow\\workspace\\images\\images\\weed\\agri_0_9216.jpeg -> Annotation:D:/8th sem/Weed detection system using TinyMl/Project1/Tensorflow/workspace/images/images/weed\\agri_0_9216.xml\n",
      "Image:D:\\8th sem\\Weed detection system using TinyMl\\Project1\\Tensorflow\\workspace\\images\\images\\weed\\agri_0_9216.jpeg -> Annotation:D:/8th sem/Weed detection system using TinyMl/Project1/Tensorflow/workspace/images/images/weed\\agri_0_9216.xml\n",
      "Image:D:\\8th sem\\Weed detection system using TinyMl\\Project1\\Tensorflow\\workspace\\images\\images\\weed\\agri_0_9240.jpeg -> Annotation:D:/8th sem/Weed detection system using TinyMl/Project1/Tensorflow/workspace/images/images/weed\\agri_0_9240.xml\n",
      "Image:D:\\8th sem\\Weed detection system using TinyMl\\Project1\\Tensorflow\\workspace\\images\\images\\weed\\agri_0_9252.jpeg -> Annotation:D:/8th sem/Weed detection system using TinyMl/Project1/Tensorflow/workspace/images/images/weed\\agri_0_9252.xml\n",
      "Image:D:\\8th sem\\Weed detection system using TinyMl\\Project1\\Tensorflow\\workspace\\images\\images\\weed\\agri_0_9260.jpeg -> Annotation:D:/8th sem/Weed detection system using TinyMl/Project1/Tensorflow/workspace/images/images/weed\\agri_0_9260.xml\n",
      "Image:D:\\8th sem\\Weed detection system using TinyMl\\Project1\\Tensorflow\\workspace\\images\\images\\weed\\agri_0_9264.jpeg -> Annotation:D:/8th sem/Weed detection system using TinyMl/Project1/Tensorflow/workspace/images/images/weed\\agri_0_9264.xml\n",
      "Image:D:\\8th sem\\Weed detection system using TinyMl\\Project1\\Tensorflow\\workspace\\images\\images\\weed\\agri_0_9266.jpeg -> Annotation:D:/8th sem/Weed detection system using TinyMl/Project1/Tensorflow/workspace/images/images/weed\\agri_0_9266.xml\n",
      "Image:D:\\8th sem\\Weed detection system using TinyMl\\Project1\\Tensorflow\\workspace\\images\\images\\weed\\agri_0_9272.jpeg -> Annotation:D:/8th sem/Weed detection system using TinyMl/Project1/Tensorflow/workspace/images/images/weed\\agri_0_9272.xml\n",
      "Image:D:\\8th sem\\Weed detection system using TinyMl\\Project1\\Tensorflow\\workspace\\images\\images\\weed\\agri_0_9278.jpeg -> Annotation:D:/8th sem/Weed detection system using TinyMl/Project1/Tensorflow/workspace/images/images/weed\\agri_0_9278.xml\n",
      "Image:D:\\8th sem\\Weed detection system using TinyMl\\Project1\\Tensorflow\\workspace\\images\\images\\weed\\agri_0_9279.jpeg -> Annotation:D:/8th sem/Weed detection system using TinyMl/Project1/Tensorflow/workspace/images/images/weed\\agri_0_9279.xml\n",
      "Image:D:\\8th sem\\Weed detection system using TinyMl\\Project1\\Tensorflow\\workspace\\images\\images\\weed\\agri_0_9279.jpeg -> Annotation:D:/8th sem/Weed detection system using TinyMl/Project1/Tensorflow/workspace/images/images/weed\\agri_0_9279.xml\n",
      "Image:D:\\8th sem\\Weed detection system using TinyMl\\Project1\\Tensorflow\\workspace\\images\\images\\weed\\agri_0_9327.jpeg -> Annotation:D:/8th sem/Weed detection system using TinyMl/Project1/Tensorflow/workspace/images/images/weed\\agri_0_9327.xml\n",
      "Image:D:\\8th sem\\Weed detection system using TinyMl\\Project1\\Tensorflow\\workspace\\images\\images\\weed\\agri_0_9354.jpeg -> Annotation:D:/8th sem/Weed detection system using TinyMl/Project1/Tensorflow/workspace/images/images/weed\\agri_0_9354.xml\n",
      "Image:D:\\8th sem\\Weed detection system using TinyMl\\Project1\\Tensorflow\\workspace\\images\\images\\weed\\agri_0_9376.jpeg -> Annotation:D:/8th sem/Weed detection system using TinyMl/Project1/Tensorflow/workspace/images/images/weed\\agri_0_9376.xml\n",
      "Image:D:\\8th sem\\Weed detection system using TinyMl\\Project1\\Tensorflow\\workspace\\images\\images\\weed\\agri_0_9385.jpeg -> Annotation:D:/8th sem/Weed detection system using TinyMl/Project1/Tensorflow/workspace/images/images/weed\\agri_0_9385.xml\n",
      "Image:D:\\8th sem\\Weed detection system using TinyMl\\Project1\\Tensorflow\\workspace\\images\\images\\weed\\agri_0_9403.jpeg -> Annotation:D:/8th sem/Weed detection system using TinyMl/Project1/Tensorflow/workspace/images/images/weed\\agri_0_9403.xml\n",
      "Image:D:\\8th sem\\Weed detection system using TinyMl\\Project1\\Tensorflow\\workspace\\images\\images\\weed\\agri_0_9406.jpeg -> Annotation:D:/8th sem/Weed detection system using TinyMl/Project1/Tensorflow/workspace/images/images/weed\\agri_0_9406.xml\n",
      "Image:D:\\8th sem\\Weed detection system using TinyMl\\Project1\\Tensorflow\\workspace\\images\\images\\weed\\agri_0_9425.jpeg -> Annotation:D:/8th sem/Weed detection system using TinyMl/Project1/Tensorflow/workspace/images/images/weed\\agri_0_9425.xml\n",
      "Image:D:\\8th sem\\Weed detection system using TinyMl\\Project1\\Tensorflow\\workspace\\images\\images\\weed\\agri_0_9435.jpeg -> Annotation:D:/8th sem/Weed detection system using TinyMl/Project1/Tensorflow/workspace/images/images/weed\\agri_0_9435.xml\n",
      "Image:D:\\8th sem\\Weed detection system using TinyMl\\Project1\\Tensorflow\\workspace\\images\\images\\weed\\agri_0_9439.jpeg -> Annotation:D:/8th sem/Weed detection system using TinyMl/Project1/Tensorflow/workspace/images/images/weed\\agri_0_9439.xml\n",
      "Image:D:\\8th sem\\Weed detection system using TinyMl\\Project1\\Tensorflow\\workspace\\images\\images\\weed\\agri_0_9439.jpeg -> Annotation:D:/8th sem/Weed detection system using TinyMl/Project1/Tensorflow/workspace/images/images/weed\\agri_0_9439.xml\n",
      "Image:D:\\8th sem\\Weed detection system using TinyMl\\Project1\\Tensorflow\\workspace\\images\\images\\weed\\agri_0_9445.jpeg -> Annotation:D:/8th sem/Weed detection system using TinyMl/Project1/Tensorflow/workspace/images/images/weed\\agri_0_9445.xml\n",
      "Image:D:\\8th sem\\Weed detection system using TinyMl\\Project1\\Tensorflow\\workspace\\images\\images\\weed\\agri_0_9450.jpeg -> Annotation:D:/8th sem/Weed detection system using TinyMl/Project1/Tensorflow/workspace/images/images/weed\\agri_0_9450.xml\n",
      "Image:D:\\8th sem\\Weed detection system using TinyMl\\Project1\\Tensorflow\\workspace\\images\\images\\weed\\agri_0_9458.jpeg -> Annotation:D:/8th sem/Weed detection system using TinyMl/Project1/Tensorflow/workspace/images/images/weed\\agri_0_9458.xml\n",
      "Image:D:\\8th sem\\Weed detection system using TinyMl\\Project1\\Tensorflow\\workspace\\images\\images\\weed\\agri_0_9468.jpeg -> Annotation:D:/8th sem/Weed detection system using TinyMl/Project1/Tensorflow/workspace/images/images/weed\\agri_0_9468.xml\n",
      "Image:D:\\8th sem\\Weed detection system using TinyMl\\Project1\\Tensorflow\\workspace\\images\\images\\weed\\agri_0_9485.jpeg -> Annotation:D:/8th sem/Weed detection system using TinyMl/Project1/Tensorflow/workspace/images/images/weed\\agri_0_9485.xml\n",
      "Image:D:\\8th sem\\Weed detection system using TinyMl\\Project1\\Tensorflow\\workspace\\images\\images\\weed\\agri_0_9526.jpeg -> Annotation:D:/8th sem/Weed detection system using TinyMl/Project1/Tensorflow/workspace/images/images/weed\\agri_0_9526.xml\n",
      "Image:D:\\8th sem\\Weed detection system using TinyMl\\Project1\\Tensorflow\\workspace\\images\\images\\weed\\agri_0_9526.jpeg -> Annotation:D:/8th sem/Weed detection system using TinyMl/Project1/Tensorflow/workspace/images/images/weed\\agri_0_9526.xml\n",
      "Image:D:\\8th sem\\Weed detection system using TinyMl\\Project1\\Tensorflow\\workspace\\images\\images\\weed\\agri_0_9527.jpeg -> Annotation:D:/8th sem/Weed detection system using TinyMl/Project1/Tensorflow/workspace/images/images/weed\\agri_0_9527.xml\n",
      "Image:D:\\8th sem\\Weed detection system using TinyMl\\Project1\\Tensorflow\\workspace\\images\\images\\weed\\agri_0_9532.jpeg -> Annotation:D:/8th sem/Weed detection system using TinyMl/Project1/Tensorflow/workspace/images/images/weed\\agri_0_9532.xml\n",
      "Image:D:\\8th sem\\Weed detection system using TinyMl\\Project1\\Tensorflow\\workspace\\images\\images\\weed\\agri_0_9575.jpeg -> Annotation:D:/8th sem/Weed detection system using TinyMl/Project1/Tensorflow/workspace/images/images/weed\\agri_0_9575.xml\n",
      "Image:D:\\8th sem\\Weed detection system using TinyMl\\Project1\\Tensorflow\\workspace\\images\\images\\weed\\agri_0_9586.jpeg -> Annotation:D:/8th sem/Weed detection system using TinyMl/Project1/Tensorflow/workspace/images/images/weed\\agri_0_9586.xml\n",
      "Image:D:\\8th sem\\Weed detection system using TinyMl\\Project1\\Tensorflow\\workspace\\images\\images\\weed\\agri_0_9612.jpeg -> Annotation:D:/8th sem/Weed detection system using TinyMl/Project1/Tensorflow/workspace/images/images/weed\\agri_0_9612.xml\n",
      "Image:D:\\8th sem\\Weed detection system using TinyMl\\Project1\\Tensorflow\\workspace\\images\\images\\weed\\agri_0_9696.jpeg -> Annotation:D:/8th sem/Weed detection system using TinyMl/Project1/Tensorflow/workspace/images/images/weed\\agri_0_9696.xml\n",
      "Image:D:\\8th sem\\Weed detection system using TinyMl\\Project1\\Tensorflow\\workspace\\images\\images\\weed\\agri_0_9727.jpeg -> Annotation:D:/8th sem/Weed detection system using TinyMl/Project1/Tensorflow/workspace/images/images/weed\\agri_0_9727.xml\n",
      "Image:D:\\8th sem\\Weed detection system using TinyMl\\Project1\\Tensorflow\\workspace\\images\\images\\weed\\agri_0_9764.jpeg -> Annotation:D:/8th sem/Weed detection system using TinyMl/Project1/Tensorflow/workspace/images/images/weed\\agri_0_9764.xml\n",
      "Image:D:\\8th sem\\Weed detection system using TinyMl\\Project1\\Tensorflow\\workspace\\images\\images\\weed\\agri_0_9772.jpeg -> Annotation:D:/8th sem/Weed detection system using TinyMl/Project1/Tensorflow/workspace/images/images/weed\\agri_0_9772.xml\n",
      "Image:D:\\8th sem\\Weed detection system using TinyMl\\Project1\\Tensorflow\\workspace\\images\\images\\weed\\agri_0_9773.jpeg -> Annotation:D:/8th sem/Weed detection system using TinyMl/Project1/Tensorflow/workspace/images/images/weed\\agri_0_9773.xml\n",
      "Image:D:\\8th sem\\Weed detection system using TinyMl\\Project1\\Tensorflow\\workspace\\images\\images\\weed\\agri_0_9810.jpeg -> Annotation:D:/8th sem/Weed detection system using TinyMl/Project1/Tensorflow/workspace/images/images/weed\\agri_0_9810.xml\n",
      "Image:D:\\8th sem\\Weed detection system using TinyMl\\Project1\\Tensorflow\\workspace\\images\\images\\weed\\agri_0_9850.jpeg -> Annotation:D:/8th sem/Weed detection system using TinyMl/Project1/Tensorflow/workspace/images/images/weed\\agri_0_9850.xml\n",
      "Image:D:\\8th sem\\Weed detection system using TinyMl\\Project1\\Tensorflow\\workspace\\images\\images\\weed\\agri_0_9861.jpeg -> Annotation:D:/8th sem/Weed detection system using TinyMl/Project1/Tensorflow/workspace/images/images/weed\\agri_0_9861.xml\n",
      "Image:D:\\8th sem\\Weed detection system using TinyMl\\Project1\\Tensorflow\\workspace\\images\\images\\weed\\agri_0_9861.jpeg -> Annotation:D:/8th sem/Weed detection system using TinyMl/Project1/Tensorflow/workspace/images/images/weed\\agri_0_9861.xml\n",
      "Image:D:\\8th sem\\Weed detection system using TinyMl\\Project1\\Tensorflow\\workspace\\images\\images\\weed\\agri_0_9872.jpeg -> Annotation:D:/8th sem/Weed detection system using TinyMl/Project1/Tensorflow/workspace/images/images/weed\\agri_0_9872.xml\n",
      "Image:D:\\8th sem\\Weed detection system using TinyMl\\Project1\\Tensorflow\\workspace\\images\\images\\weed\\agri_0_9873.jpeg -> Annotation:D:/8th sem/Weed detection system using TinyMl/Project1/Tensorflow/workspace/images/images/weed\\agri_0_9873.xml\n",
      "Image:D:\\8th sem\\Weed detection system using TinyMl\\Project1\\Tensorflow\\workspace\\images\\images\\weed\\agri_0_9875.jpeg -> Annotation:D:/8th sem/Weed detection system using TinyMl/Project1/Tensorflow/workspace/images/images/weed\\agri_0_9875.xml\n",
      "Image:D:\\8th sem\\Weed detection system using TinyMl\\Project1\\Tensorflow\\workspace\\images\\images\\weed\\agri_0_9881.jpeg -> Annotation:D:/8th sem/Weed detection system using TinyMl/Project1/Tensorflow/workspace/images/images/weed\\agri_0_9881.xml\n",
      "Image:D:\\8th sem\\Weed detection system using TinyMl\\Project1\\Tensorflow\\workspace\\images\\images\\weed\\agri_0_9892.jpeg -> Annotation:D:/8th sem/Weed detection system using TinyMl/Project1/Tensorflow/workspace/images/images/weed\\agri_0_9892.xml\n",
      "Image:D:\\8th sem\\Weed detection system using TinyMl\\Project1\\Tensorflow\\workspace\\images\\images\\weed\\agri_0_9916.jpeg -> Annotation:D:/8th sem/Weed detection system using TinyMl/Project1/Tensorflow/workspace/images/images/weed\\agri_0_9916.xml\n",
      "Image:D:\\8th sem\\Weed detection system using TinyMl\\Project1\\Tensorflow\\workspace\\images\\images\\weed\\agri_0_9927.jpeg -> Annotation:D:/8th sem/Weed detection system using TinyMl/Project1/Tensorflow/workspace/images/images/weed\\agri_0_9927.xml\n",
      "Image:D:\\8th sem\\Weed detection system using TinyMl\\Project1\\Tensorflow\\workspace\\images\\images\\weed\\agri_0_9952.jpeg -> Annotation:D:/8th sem/Weed detection system using TinyMl/Project1/Tensorflow/workspace/images/images/weed\\agri_0_9952.xml\n",
      "Image:D:\\8th sem\\Weed detection system using TinyMl\\Project1\\Tensorflow\\workspace\\images\\images\\weed\\agri_0_9960.jpeg -> Annotation:D:/8th sem/Weed detection system using TinyMl/Project1/Tensorflow/workspace/images/images/weed\\agri_0_9960.xml\n",
      "Image:D:\\8th sem\\Weed detection system using TinyMl\\Project1\\Tensorflow\\workspace\\images\\images\\weed\\agri_0_9963.jpeg -> Annotation:D:/8th sem/Weed detection system using TinyMl/Project1/Tensorflow/workspace/images/images/weed\\agri_0_9963.xml\n",
      "Image:D:\\8th sem\\Weed detection system using TinyMl\\Project1\\Tensorflow\\workspace\\images\\images\\weed\\agri_0_9971.jpeg -> Annotation:D:/8th sem/Weed detection system using TinyMl/Project1/Tensorflow/workspace/images/images/weed\\agri_0_9971.xml\n",
      "Image:D:\\8th sem\\Weed detection system using TinyMl\\Project1\\Tensorflow\\workspace\\images\\images\\weed\\agri_0_8899.jpeg -> Annotation:D:/8th sem/Weed detection system using TinyMl/Project1/Tensorflow/workspace/images/images/weed\\agri_0_8899.xml\n"
     ]
    },
    {
     "name": "stderr",
     "output_type": "stream",
     "text": [
      "qt.qpa.fonts: Unable to open default EUDC font: \"EUDC.TTE\"\n"
     ]
    }
   ],
   "source": [
    "!cd {LABELIMG_PATH} && python labelImg.py"
   ]
  },
  {
   "cell_type": "markdown",
   "id": "8e0fa60f",
   "metadata": {},
   "source": [
    "# 5. Spliting Images into Training and Testing\n",
    "<p>Spliting Done explicitly</p>"
   ]
  },
  {
   "cell_type": "markdown",
   "id": "cd215043",
   "metadata": {},
   "source": [
    "# 6. Compress Images for Training"
   ]
  },
  {
   "cell_type": "code",
   "execution_count": 12,
   "id": "d78cd918",
   "metadata": {},
   "outputs": [],
   "source": [
    "TRAIN_PATH = os.path.join('Tensorflow', 'workspace', 'images', 'train')\n",
    "TEST_PATH = os.path.join('Tensorflow', 'workspace', 'images', 'test')\n",
    "ARCHIVE_PATH = os.path.join('Tensorflow', 'workspace', 'images', 'archive.tar.gz')"
   ]
  },
  {
   "cell_type": "code",
   "execution_count": 13,
   "id": "0e5010f5",
   "metadata": {},
   "outputs": [],
   "source": [
    "!tar -czf {ARCHIVE_PATH} {TRAIN_PATH} {TEST_PATH}"
   ]
  },
  {
   "cell_type": "code",
   "execution_count": 8,
   "id": "1a33f78e",
   "metadata": {
    "collapsed": true
   },
   "outputs": [
    {
     "name": "stdout",
     "output_type": "stream",
     "text": [
      "Collecting imutils\n",
      "  Using cached imutils-0.5.4.tar.gz (17 kB)\n",
      "  Installing build dependencies: started\n",
      "  Installing build dependencies: finished with status 'done'\n",
      "  Getting requirements to build wheel: started\n",
      "  Getting requirements to build wheel: finished with status 'done'\n",
      "  Preparing metadata (pyproject.toml): started\n",
      "  Preparing metadata (pyproject.toml): finished with status 'done'\n",
      "Building wheels for collected packages: imutils\n",
      "  Building wheel for imutils (pyproject.toml): started\n",
      "  Building wheel for imutils (pyproject.toml): finished with status 'done'\n",
      "  Created wheel for imutils: filename=imutils-0.5.4-py3-none-any.whl size=25855 sha256=86c3359a440b6fcabf02a1679d1ed5a934d05f2c0acde2697d692db03d948d69\n",
      "  Stored in directory: c:\\users\\dell\\appdata\\local\\pip\\cache\\wheels\\31\\d0\\2c\\87ce38f6052879e5b7b18f0f8b4a10ad2a9d210e908d449f16\n",
      "Successfully built imutils\n",
      "Installing collected packages: imutils\n",
      "Successfully installed imutils-0.5.4\n",
      "Note: you may need to restart the kernel to use updated packages.\n"
     ]
    }
   ],
   "source": []
  },
  {
   "cell_type": "code",
   "execution_count": null,
   "id": "a07fb874",
   "metadata": {},
   "outputs": [],
   "source": []
  }
 ],
 "metadata": {
  "kernelspec": {
   "display_name": "tfwd",
   "language": "python",
   "name": "tfwd"
  },
  "language_info": {
   "codemirror_mode": {
    "name": "ipython",
    "version": 3
   },
   "file_extension": ".py",
   "mimetype": "text/x-python",
   "name": "python",
   "nbconvert_exporter": "python",
   "pygments_lexer": "ipython3",
   "version": "3.11.3"
  }
 },
 "nbformat": 4,
 "nbformat_minor": 5
}
